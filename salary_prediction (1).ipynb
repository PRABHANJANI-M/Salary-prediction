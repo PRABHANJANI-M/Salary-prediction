{
<<<<<<< HEAD
  "cells": [
    {
      "cell_type": "code",
      "execution_count": 1,
=======
  "nbformat": 4,
  "nbformat_minor": 0,
  "metadata": {
    "colab": {
      "provenance": []
    },
    "kernelspec": {
      "name": "python3",
      "display_name": "Python 3"
    },
    "language_info": {
      "name": "python"
    }
  },
  "cells": [
    {
      "cell_type": "code",
      "execution_count": 244,
>>>>>>> fe574affc3ded318263bbbc35e20b4a1cbf12fd1
      "metadata": {
        "colab": {
          "base_uri": "https://localhost:8080/",
          "height": 989
        },
        "id": "V1akcP3p1Qn2",
        "outputId": "419e61fe-ae46-4299-ea40-2e568b657d78"
      },
      "outputs": [
        {
<<<<<<< HEAD
          "data": {
            "text/html": [
              "<div>\n",
=======
          "output_type": "execute_result",
          "data": {
            "text/plain": [
              "    YearsExperience    Salary\n",
              "0               1.2   39344.0\n",
              "1               1.4   46206.0\n",
              "2               1.6   37732.0\n",
              "3               2.1   43526.0\n",
              "4               2.3   39892.0\n",
              "5               3.0   56643.0\n",
              "6               3.1   60151.0\n",
              "7               3.3   54446.0\n",
              "8               3.3   64446.0\n",
              "9               3.8   57190.0\n",
              "10              4.0   63219.0\n",
              "11              4.1   55795.0\n",
              "12              4.1   56958.0\n",
              "13              4.2   57082.0\n",
              "14              4.6   61112.0\n",
              "15              5.0   67939.0\n",
              "16              5.2   66030.0\n",
              "17              5.4   83089.0\n",
              "18              6.0   81364.0\n",
              "19              6.1   93941.0\n",
              "20              6.9   91739.0\n",
              "21              7.2   98274.0\n",
              "22              8.0  101303.0\n",
              "23              8.3  113813.0\n",
              "24              8.8  109432.0\n",
              "25              9.1  105583.0\n",
              "26              9.6  116970.0\n",
              "27              9.7  112636.0\n",
              "28             10.4  122392.0\n",
              "29             10.6  121873.0"
            ],
            "text/html": [
              "\n",
              "  <div id=\"df-5fe63705-4743-4194-9350-6ae546e5111d\" class=\"colab-df-container\">\n",
              "    <div>\n",
>>>>>>> fe574affc3ded318263bbbc35e20b4a1cbf12fd1
              "<style scoped>\n",
              "    .dataframe tbody tr th:only-of-type {\n",
              "        vertical-align: middle;\n",
              "    }\n",
              "\n",
              "    .dataframe tbody tr th {\n",
              "        vertical-align: top;\n",
              "    }\n",
              "\n",
              "    .dataframe thead th {\n",
              "        text-align: right;\n",
              "    }\n",
              "</style>\n",
              "<table border=\"1\" class=\"dataframe\">\n",
              "  <thead>\n",
              "    <tr style=\"text-align: right;\">\n",
              "      <th></th>\n",
              "      <th>YearsExperience</th>\n",
              "      <th>Salary</th>\n",
              "    </tr>\n",
              "  </thead>\n",
              "  <tbody>\n",
              "    <tr>\n",
              "      <th>0</th>\n",
              "      <td>1.2</td>\n",
              "      <td>39344.0</td>\n",
              "    </tr>\n",
              "    <tr>\n",
              "      <th>1</th>\n",
              "      <td>1.4</td>\n",
              "      <td>46206.0</td>\n",
              "    </tr>\n",
              "    <tr>\n",
              "      <th>2</th>\n",
              "      <td>1.6</td>\n",
              "      <td>37732.0</td>\n",
              "    </tr>\n",
              "    <tr>\n",
              "      <th>3</th>\n",
              "      <td>2.1</td>\n",
              "      <td>43526.0</td>\n",
              "    </tr>\n",
              "    <tr>\n",
              "      <th>4</th>\n",
              "      <td>2.3</td>\n",
              "      <td>39892.0</td>\n",
              "    </tr>\n",
              "    <tr>\n",
              "      <th>5</th>\n",
              "      <td>3.0</td>\n",
              "      <td>56643.0</td>\n",
              "    </tr>\n",
              "    <tr>\n",
              "      <th>6</th>\n",
              "      <td>3.1</td>\n",
              "      <td>60151.0</td>\n",
              "    </tr>\n",
              "    <tr>\n",
              "      <th>7</th>\n",
              "      <td>3.3</td>\n",
              "      <td>54446.0</td>\n",
              "    </tr>\n",
              "    <tr>\n",
              "      <th>8</th>\n",
              "      <td>3.3</td>\n",
              "      <td>64446.0</td>\n",
              "    </tr>\n",
              "    <tr>\n",
              "      <th>9</th>\n",
              "      <td>3.8</td>\n",
              "      <td>57190.0</td>\n",
              "    </tr>\n",
              "    <tr>\n",
              "      <th>10</th>\n",
              "      <td>4.0</td>\n",
              "      <td>63219.0</td>\n",
              "    </tr>\n",
              "    <tr>\n",
              "      <th>11</th>\n",
              "      <td>4.1</td>\n",
              "      <td>55795.0</td>\n",
              "    </tr>\n",
              "    <tr>\n",
              "      <th>12</th>\n",
              "      <td>4.1</td>\n",
              "      <td>56958.0</td>\n",
              "    </tr>\n",
              "    <tr>\n",
              "      <th>13</th>\n",
              "      <td>4.2</td>\n",
              "      <td>57082.0</td>\n",
              "    </tr>\n",
              "    <tr>\n",
              "      <th>14</th>\n",
              "      <td>4.6</td>\n",
              "      <td>61112.0</td>\n",
              "    </tr>\n",
              "    <tr>\n",
              "      <th>15</th>\n",
              "      <td>5.0</td>\n",
              "      <td>67939.0</td>\n",
              "    </tr>\n",
              "    <tr>\n",
              "      <th>16</th>\n",
              "      <td>5.2</td>\n",
              "      <td>66030.0</td>\n",
              "    </tr>\n",
              "    <tr>\n",
              "      <th>17</th>\n",
              "      <td>5.4</td>\n",
              "      <td>83089.0</td>\n",
              "    </tr>\n",
              "    <tr>\n",
              "      <th>18</th>\n",
              "      <td>6.0</td>\n",
              "      <td>81364.0</td>\n",
              "    </tr>\n",
              "    <tr>\n",
              "      <th>19</th>\n",
              "      <td>6.1</td>\n",
              "      <td>93941.0</td>\n",
              "    </tr>\n",
              "    <tr>\n",
              "      <th>20</th>\n",
              "      <td>6.9</td>\n",
              "      <td>91739.0</td>\n",
              "    </tr>\n",
              "    <tr>\n",
              "      <th>21</th>\n",
              "      <td>7.2</td>\n",
              "      <td>98274.0</td>\n",
              "    </tr>\n",
              "    <tr>\n",
              "      <th>22</th>\n",
              "      <td>8.0</td>\n",
              "      <td>101303.0</td>\n",
              "    </tr>\n",
              "    <tr>\n",
              "      <th>23</th>\n",
              "      <td>8.3</td>\n",
              "      <td>113813.0</td>\n",
              "    </tr>\n",
              "    <tr>\n",
              "      <th>24</th>\n",
              "      <td>8.8</td>\n",
              "      <td>109432.0</td>\n",
              "    </tr>\n",
              "    <tr>\n",
              "      <th>25</th>\n",
              "      <td>9.1</td>\n",
              "      <td>105583.0</td>\n",
              "    </tr>\n",
              "    <tr>\n",
              "      <th>26</th>\n",
              "      <td>9.6</td>\n",
              "      <td>116970.0</td>\n",
              "    </tr>\n",
              "    <tr>\n",
              "      <th>27</th>\n",
              "      <td>9.7</td>\n",
              "      <td>112636.0</td>\n",
              "    </tr>\n",
              "    <tr>\n",
              "      <th>28</th>\n",
              "      <td>10.4</td>\n",
              "      <td>122392.0</td>\n",
              "    </tr>\n",
              "    <tr>\n",
              "      <th>29</th>\n",
              "      <td>10.6</td>\n",
              "      <td>121873.0</td>\n",
              "    </tr>\n",
              "  </tbody>\n",
              "</table>\n",
<<<<<<< HEAD
              "</div>"
            ],
            "text/plain": [
              "    YearsExperience    Salary\n",
              "0               1.2   39344.0\n",
              "1               1.4   46206.0\n",
              "2               1.6   37732.0\n",
              "3               2.1   43526.0\n",
              "4               2.3   39892.0\n",
              "5               3.0   56643.0\n",
              "6               3.1   60151.0\n",
              "7               3.3   54446.0\n",
              "8               3.3   64446.0\n",
              "9               3.8   57190.0\n",
              "10              4.0   63219.0\n",
              "11              4.1   55795.0\n",
              "12              4.1   56958.0\n",
              "13              4.2   57082.0\n",
              "14              4.6   61112.0\n",
              "15              5.0   67939.0\n",
              "16              5.2   66030.0\n",
              "17              5.4   83089.0\n",
              "18              6.0   81364.0\n",
              "19              6.1   93941.0\n",
              "20              6.9   91739.0\n",
              "21              7.2   98274.0\n",
              "22              8.0  101303.0\n",
              "23              8.3  113813.0\n",
              "24              8.8  109432.0\n",
              "25              9.1  105583.0\n",
              "26              9.6  116970.0\n",
              "27              9.7  112636.0\n",
              "28             10.4  122392.0\n",
              "29             10.6  121873.0"
            ]
          },
          "execution_count": 1,
          "metadata": {},
          "output_type": "execute_result"
=======
              "</div>\n",
              "    <div class=\"colab-df-buttons\">\n",
              "\n",
              "  <div class=\"colab-df-container\">\n",
              "    <button class=\"colab-df-convert\" onclick=\"convertToInteractive('df-5fe63705-4743-4194-9350-6ae546e5111d')\"\n",
              "            title=\"Convert this dataframe to an interactive table.\"\n",
              "            style=\"display:none;\">\n",
              "\n",
              "  <svg xmlns=\"http://www.w3.org/2000/svg\" height=\"24px\" viewBox=\"0 -960 960 960\">\n",
              "    <path d=\"M120-120v-720h720v720H120Zm60-500h600v-160H180v160Zm220 220h160v-160H400v160Zm0 220h160v-160H400v160ZM180-400h160v-160H180v160Zm440 0h160v-160H620v160ZM180-180h160v-160H180v160Zm440 0h160v-160H620v160Z\"/>\n",
              "  </svg>\n",
              "    </button>\n",
              "\n",
              "  <style>\n",
              "    .colab-df-container {\n",
              "      display:flex;\n",
              "      gap: 12px;\n",
              "    }\n",
              "\n",
              "    .colab-df-convert {\n",
              "      background-color: #E8F0FE;\n",
              "      border: none;\n",
              "      border-radius: 50%;\n",
              "      cursor: pointer;\n",
              "      display: none;\n",
              "      fill: #1967D2;\n",
              "      height: 32px;\n",
              "      padding: 0 0 0 0;\n",
              "      width: 32px;\n",
              "    }\n",
              "\n",
              "    .colab-df-convert:hover {\n",
              "      background-color: #E2EBFA;\n",
              "      box-shadow: 0px 1px 2px rgba(60, 64, 67, 0.3), 0px 1px 3px 1px rgba(60, 64, 67, 0.15);\n",
              "      fill: #174EA6;\n",
              "    }\n",
              "\n",
              "    .colab-df-buttons div {\n",
              "      margin-bottom: 4px;\n",
              "    }\n",
              "\n",
              "    [theme=dark] .colab-df-convert {\n",
              "      background-color: #3B4455;\n",
              "      fill: #D2E3FC;\n",
              "    }\n",
              "\n",
              "    [theme=dark] .colab-df-convert:hover {\n",
              "      background-color: #434B5C;\n",
              "      box-shadow: 0px 1px 3px 1px rgba(0, 0, 0, 0.15);\n",
              "      filter: drop-shadow(0px 1px 2px rgba(0, 0, 0, 0.3));\n",
              "      fill: #FFFFFF;\n",
              "    }\n",
              "  </style>\n",
              "\n",
              "    <script>\n",
              "      const buttonEl =\n",
              "        document.querySelector('#df-5fe63705-4743-4194-9350-6ae546e5111d button.colab-df-convert');\n",
              "      buttonEl.style.display =\n",
              "        google.colab.kernel.accessAllowed ? 'block' : 'none';\n",
              "\n",
              "      async function convertToInteractive(key) {\n",
              "        const element = document.querySelector('#df-5fe63705-4743-4194-9350-6ae546e5111d');\n",
              "        const dataTable =\n",
              "          await google.colab.kernel.invokeFunction('convertToInteractive',\n",
              "                                                    [key], {});\n",
              "        if (!dataTable) return;\n",
              "\n",
              "        const docLinkHtml = 'Like what you see? Visit the ' +\n",
              "          '<a target=\"_blank\" href=https://colab.research.google.com/notebooks/data_table.ipynb>data table notebook</a>'\n",
              "          + ' to learn more about interactive tables.';\n",
              "        element.innerHTML = '';\n",
              "        dataTable['output_type'] = 'display_data';\n",
              "        await google.colab.output.renderOutput(dataTable, element);\n",
              "        const docLink = document.createElement('div');\n",
              "        docLink.innerHTML = docLinkHtml;\n",
              "        element.appendChild(docLink);\n",
              "      }\n",
              "    </script>\n",
              "  </div>\n",
              "\n",
              "\n",
              "    <div id=\"df-a1868f5c-c30b-465c-953d-87d3d6da6fa4\">\n",
              "      <button class=\"colab-df-quickchart\" onclick=\"quickchart('df-a1868f5c-c30b-465c-953d-87d3d6da6fa4')\"\n",
              "                title=\"Suggest charts\"\n",
              "                style=\"display:none;\">\n",
              "\n",
              "<svg xmlns=\"http://www.w3.org/2000/svg\" height=\"24px\"viewBox=\"0 0 24 24\"\n",
              "     width=\"24px\">\n",
              "    <g>\n",
              "        <path d=\"M19 3H5c-1.1 0-2 .9-2 2v14c0 1.1.9 2 2 2h14c1.1 0 2-.9 2-2V5c0-1.1-.9-2-2-2zM9 17H7v-7h2v7zm4 0h-2V7h2v10zm4 0h-2v-4h2v4z\"/>\n",
              "    </g>\n",
              "</svg>\n",
              "      </button>\n",
              "\n",
              "<style>\n",
              "  .colab-df-quickchart {\n",
              "      --bg-color: #E8F0FE;\n",
              "      --fill-color: #1967D2;\n",
              "      --hover-bg-color: #E2EBFA;\n",
              "      --hover-fill-color: #174EA6;\n",
              "      --disabled-fill-color: #AAA;\n",
              "      --disabled-bg-color: #DDD;\n",
              "  }\n",
              "\n",
              "  [theme=dark] .colab-df-quickchart {\n",
              "      --bg-color: #3B4455;\n",
              "      --fill-color: #D2E3FC;\n",
              "      --hover-bg-color: #434B5C;\n",
              "      --hover-fill-color: #FFFFFF;\n",
              "      --disabled-bg-color: #3B4455;\n",
              "      --disabled-fill-color: #666;\n",
              "  }\n",
              "\n",
              "  .colab-df-quickchart {\n",
              "    background-color: var(--bg-color);\n",
              "    border: none;\n",
              "    border-radius: 50%;\n",
              "    cursor: pointer;\n",
              "    display: none;\n",
              "    fill: var(--fill-color);\n",
              "    height: 32px;\n",
              "    padding: 0;\n",
              "    width: 32px;\n",
              "  }\n",
              "\n",
              "  .colab-df-quickchart:hover {\n",
              "    background-color: var(--hover-bg-color);\n",
              "    box-shadow: 0 1px 2px rgba(60, 64, 67, 0.3), 0 1px 3px 1px rgba(60, 64, 67, 0.15);\n",
              "    fill: var(--button-hover-fill-color);\n",
              "  }\n",
              "\n",
              "  .colab-df-quickchart-complete:disabled,\n",
              "  .colab-df-quickchart-complete:disabled:hover {\n",
              "    background-color: var(--disabled-bg-color);\n",
              "    fill: var(--disabled-fill-color);\n",
              "    box-shadow: none;\n",
              "  }\n",
              "\n",
              "  .colab-df-spinner {\n",
              "    border: 2px solid var(--fill-color);\n",
              "    border-color: transparent;\n",
              "    border-bottom-color: var(--fill-color);\n",
              "    animation:\n",
              "      spin 1s steps(1) infinite;\n",
              "  }\n",
              "\n",
              "  @keyframes spin {\n",
              "    0% {\n",
              "      border-color: transparent;\n",
              "      border-bottom-color: var(--fill-color);\n",
              "      border-left-color: var(--fill-color);\n",
              "    }\n",
              "    20% {\n",
              "      border-color: transparent;\n",
              "      border-left-color: var(--fill-color);\n",
              "      border-top-color: var(--fill-color);\n",
              "    }\n",
              "    30% {\n",
              "      border-color: transparent;\n",
              "      border-left-color: var(--fill-color);\n",
              "      border-top-color: var(--fill-color);\n",
              "      border-right-color: var(--fill-color);\n",
              "    }\n",
              "    40% {\n",
              "      border-color: transparent;\n",
              "      border-right-color: var(--fill-color);\n",
              "      border-top-color: var(--fill-color);\n",
              "    }\n",
              "    60% {\n",
              "      border-color: transparent;\n",
              "      border-right-color: var(--fill-color);\n",
              "    }\n",
              "    80% {\n",
              "      border-color: transparent;\n",
              "      border-right-color: var(--fill-color);\n",
              "      border-bottom-color: var(--fill-color);\n",
              "    }\n",
              "    90% {\n",
              "      border-color: transparent;\n",
              "      border-bottom-color: var(--fill-color);\n",
              "    }\n",
              "  }\n",
              "</style>\n",
              "\n",
              "      <script>\n",
              "        async function quickchart(key) {\n",
              "          const quickchartButtonEl =\n",
              "            document.querySelector('#' + key + ' button');\n",
              "          quickchartButtonEl.disabled = true;  // To prevent multiple clicks.\n",
              "          quickchartButtonEl.classList.add('colab-df-spinner');\n",
              "          try {\n",
              "            const charts = await google.colab.kernel.invokeFunction(\n",
              "                'suggestCharts', [key], {});\n",
              "          } catch (error) {\n",
              "            console.error('Error during call to suggestCharts:', error);\n",
              "          }\n",
              "          quickchartButtonEl.classList.remove('colab-df-spinner');\n",
              "          quickchartButtonEl.classList.add('colab-df-quickchart-complete');\n",
              "        }\n",
              "        (() => {\n",
              "          let quickchartButtonEl =\n",
              "            document.querySelector('#df-a1868f5c-c30b-465c-953d-87d3d6da6fa4 button');\n",
              "          quickchartButtonEl.style.display =\n",
              "            google.colab.kernel.accessAllowed ? 'block' : 'none';\n",
              "        })();\n",
              "      </script>\n",
              "    </div>\n",
              "\n",
              "  <div id=\"id_8f9e2319-6b66-40ca-9bb1-5e83d45d9bbd\">\n",
              "    <style>\n",
              "      .colab-df-generate {\n",
              "        background-color: #E8F0FE;\n",
              "        border: none;\n",
              "        border-radius: 50%;\n",
              "        cursor: pointer;\n",
              "        display: none;\n",
              "        fill: #1967D2;\n",
              "        height: 32px;\n",
              "        padding: 0 0 0 0;\n",
              "        width: 32px;\n",
              "      }\n",
              "\n",
              "      .colab-df-generate:hover {\n",
              "        background-color: #E2EBFA;\n",
              "        box-shadow: 0px 1px 2px rgba(60, 64, 67, 0.3), 0px 1px 3px 1px rgba(60, 64, 67, 0.15);\n",
              "        fill: #174EA6;\n",
              "      }\n",
              "\n",
              "      [theme=dark] .colab-df-generate {\n",
              "        background-color: #3B4455;\n",
              "        fill: #D2E3FC;\n",
              "      }\n",
              "\n",
              "      [theme=dark] .colab-df-generate:hover {\n",
              "        background-color: #434B5C;\n",
              "        box-shadow: 0px 1px 3px 1px rgba(0, 0, 0, 0.15);\n",
              "        filter: drop-shadow(0px 1px 2px rgba(0, 0, 0, 0.3));\n",
              "        fill: #FFFFFF;\n",
              "      }\n",
              "    </style>\n",
              "    <button class=\"colab-df-generate\" onclick=\"generateWithVariable('df')\"\n",
              "            title=\"Generate code using this dataframe.\"\n",
              "            style=\"display:none;\">\n",
              "\n",
              "  <svg xmlns=\"http://www.w3.org/2000/svg\" height=\"24px\"viewBox=\"0 0 24 24\"\n",
              "       width=\"24px\">\n",
              "    <path d=\"M7,19H8.4L18.45,9,17,7.55,7,17.6ZM5,21V16.75L18.45,3.32a2,2,0,0,1,2.83,0l1.4,1.43a1.91,1.91,0,0,1,.58,1.4,1.91,1.91,0,0,1-.58,1.4L9.25,21ZM18.45,9,17,7.55Zm-12,3A5.31,5.31,0,0,0,4.9,8.1,5.31,5.31,0,0,0,1,6.5,5.31,5.31,0,0,0,4.9,4.9,5.31,5.31,0,0,0,6.5,1,5.31,5.31,0,0,0,8.1,4.9,5.31,5.31,0,0,0,12,6.5,5.46,5.46,0,0,0,6.5,12Z\"/>\n",
              "  </svg>\n",
              "    </button>\n",
              "    <script>\n",
              "      (() => {\n",
              "      const buttonEl =\n",
              "        document.querySelector('#id_8f9e2319-6b66-40ca-9bb1-5e83d45d9bbd button.colab-df-generate');\n",
              "      buttonEl.style.display =\n",
              "        google.colab.kernel.accessAllowed ? 'block' : 'none';\n",
              "\n",
              "      buttonEl.onclick = () => {\n",
              "        google.colab.notebook.generateWithVariable('df');\n",
              "      }\n",
              "      })();\n",
              "    </script>\n",
              "  </div>\n",
              "\n",
              "    </div>\n",
              "  </div>\n"
            ],
            "application/vnd.google.colaboratory.intrinsic+json": {
              "type": "dataframe",
              "variable_name": "df",
              "summary": "{\n  \"name\": \"df\",\n  \"rows\": 30,\n  \"fields\": [\n    {\n      \"column\": \"YearsExperience\",\n      \"properties\": {\n        \"dtype\": \"number\",\n        \"std\": 2.8378881576627184,\n        \"min\": 1.2000000000000002,\n        \"max\": 10.6,\n        \"num_unique_values\": 28,\n        \"samples\": [\n          4.0,\n          9.7,\n          3.8\n        ],\n        \"semantic_type\": \"\",\n        \"description\": \"\"\n      }\n    },\n    {\n      \"column\": \"Salary\",\n      \"properties\": {\n        \"dtype\": \"number\",\n        \"std\": 27414.4297845823,\n        \"min\": 37732.0,\n        \"max\": 122392.0,\n        \"num_unique_values\": 30,\n        \"samples\": [\n          112636.0,\n          67939.0,\n          113813.0\n        ],\n        \"semantic_type\": \"\",\n        \"description\": \"\"\n      }\n    }\n  ]\n}"
            }
          },
          "metadata": {},
          "execution_count": 244
>>>>>>> fe574affc3ded318263bbbc35e20b4a1cbf12fd1
        }
      ],
      "source": [
        "import pandas as pd\n",
        "import numpy as np\n",
        "import matplotlib.pyplot as plt\n",
        "import seaborn as sns\n",
        "from sklearn.model_selection import train_test_split\n",
        "from sklearn.linear_model import LinearRegression\n",
        "from sklearn.metrics import r2_score\n",
        "df=pd.read_csv('Salary_dataset.csv')\n",
        "df"
      ]
    },
    {
      "cell_type": "code",
<<<<<<< HEAD
      "execution_count": 2,
=======
      "source": [
        "df.shape"
      ],
>>>>>>> fe574affc3ded318263bbbc35e20b4a1cbf12fd1
      "metadata": {
        "colab": {
          "base_uri": "https://localhost:8080/"
        },
        "id": "RZYbmpGiLP3b",
        "outputId": "d7302500-8b25-4e0b-9be9-c36c8ba9b89a"
      },
<<<<<<< HEAD
      "outputs": [
        {
=======
      "execution_count": 245,
      "outputs": [
        {
          "output_type": "execute_result",
>>>>>>> fe574affc3ded318263bbbc35e20b4a1cbf12fd1
          "data": {
            "text/plain": [
              "(30, 2)"
            ]
          },
<<<<<<< HEAD
          "execution_count": 2,
          "metadata": {},
          "output_type": "execute_result"
        }
      ],
      "source": [
        "df.shape"
=======
          "metadata": {},
          "execution_count": 245
        }
>>>>>>> fe574affc3ded318263bbbc35e20b4a1cbf12fd1
      ]
    },
    {
      "cell_type": "code",
<<<<<<< HEAD
      "execution_count": 3,
=======
      "source": [
        "df.isnull().sum()"
      ],
>>>>>>> fe574affc3ded318263bbbc35e20b4a1cbf12fd1
      "metadata": {
        "colab": {
          "base_uri": "https://localhost:8080/",
          "height": 146
        },
        "id": "HudPQbow1xbn",
        "outputId": "16543e46-d819-40d6-b838-b039ba07808c"
      },
<<<<<<< HEAD
      "outputs": [
        {
=======
      "execution_count": 246,
      "outputs": [
        {
          "output_type": "execute_result",
>>>>>>> fe574affc3ded318263bbbc35e20b4a1cbf12fd1
          "data": {
            "text/plain": [
              "YearsExperience    0\n",
              "Salary             0\n",
              "dtype: int64"
<<<<<<< HEAD
            ]
          },
          "execution_count": 3,
          "metadata": {},
          "output_type": "execute_result"
        }
      ],
      "source": [
        "df.isnull().sum()"
=======
            ],
            "text/html": [
              "<div>\n",
              "<style scoped>\n",
              "    .dataframe tbody tr th:only-of-type {\n",
              "        vertical-align: middle;\n",
              "    }\n",
              "\n",
              "    .dataframe tbody tr th {\n",
              "        vertical-align: top;\n",
              "    }\n",
              "\n",
              "    .dataframe thead th {\n",
              "        text-align: right;\n",
              "    }\n",
              "</style>\n",
              "<table border=\"1\" class=\"dataframe\">\n",
              "  <thead>\n",
              "    <tr style=\"text-align: right;\">\n",
              "      <th></th>\n",
              "      <th>0</th>\n",
              "    </tr>\n",
              "  </thead>\n",
              "  <tbody>\n",
              "    <tr>\n",
              "      <th>YearsExperience</th>\n",
              "      <td>0</td>\n",
              "    </tr>\n",
              "    <tr>\n",
              "      <th>Salary</th>\n",
              "      <td>0</td>\n",
              "    </tr>\n",
              "  </tbody>\n",
              "</table>\n",
              "</div><br><label><b>dtype:</b> int64</label>"
            ]
          },
          "metadata": {},
          "execution_count": 246
        }
>>>>>>> fe574affc3ded318263bbbc35e20b4a1cbf12fd1
      ]
    },
    {
      "cell_type": "code",
<<<<<<< HEAD
      "execution_count": 4,
=======
      "source": [
        "df.describe()"
      ],
>>>>>>> fe574affc3ded318263bbbc35e20b4a1cbf12fd1
      "metadata": {
        "colab": {
          "base_uri": "https://localhost:8080/",
          "height": 300
        },
        "id": "panu6t2h13-1",
        "outputId": "45c6e210-3d5f-4f7f-bc13-6ea2d52b992e"
      },
<<<<<<< HEAD
      "outputs": [
        {
          "data": {
            "text/html": [
              "<div>\n",
=======
      "execution_count": 247,
      "outputs": [
        {
          "output_type": "execute_result",
          "data": {
            "text/plain": [
              "       YearsExperience         Salary\n",
              "count        30.000000      30.000000\n",
              "mean          5.413333   76004.000000\n",
              "std           2.837888   27414.429785\n",
              "min           1.200000   37732.000000\n",
              "25%           3.300000   56721.750000\n",
              "50%           4.800000   65238.000000\n",
              "75%           7.800000  100545.750000\n",
              "max          10.600000  122392.000000"
            ],
            "text/html": [
              "\n",
              "  <div id=\"df-060aba01-ad6c-4c0a-8841-7647b3c0f831\" class=\"colab-df-container\">\n",
              "    <div>\n",
>>>>>>> fe574affc3ded318263bbbc35e20b4a1cbf12fd1
              "<style scoped>\n",
              "    .dataframe tbody tr th:only-of-type {\n",
              "        vertical-align: middle;\n",
              "    }\n",
              "\n",
              "    .dataframe tbody tr th {\n",
              "        vertical-align: top;\n",
              "    }\n",
              "\n",
              "    .dataframe thead th {\n",
              "        text-align: right;\n",
              "    }\n",
              "</style>\n",
              "<table border=\"1\" class=\"dataframe\">\n",
              "  <thead>\n",
              "    <tr style=\"text-align: right;\">\n",
              "      <th></th>\n",
              "      <th>YearsExperience</th>\n",
              "      <th>Salary</th>\n",
              "    </tr>\n",
              "  </thead>\n",
              "  <tbody>\n",
              "    <tr>\n",
              "      <th>count</th>\n",
              "      <td>30.000000</td>\n",
              "      <td>30.000000</td>\n",
              "    </tr>\n",
              "    <tr>\n",
              "      <th>mean</th>\n",
              "      <td>5.413333</td>\n",
              "      <td>76004.000000</td>\n",
              "    </tr>\n",
              "    <tr>\n",
              "      <th>std</th>\n",
              "      <td>2.837888</td>\n",
              "      <td>27414.429785</td>\n",
              "    </tr>\n",
              "    <tr>\n",
              "      <th>min</th>\n",
              "      <td>1.200000</td>\n",
              "      <td>37732.000000</td>\n",
              "    </tr>\n",
              "    <tr>\n",
              "      <th>25%</th>\n",
              "      <td>3.300000</td>\n",
              "      <td>56721.750000</td>\n",
              "    </tr>\n",
              "    <tr>\n",
              "      <th>50%</th>\n",
              "      <td>4.800000</td>\n",
              "      <td>65238.000000</td>\n",
              "    </tr>\n",
              "    <tr>\n",
              "      <th>75%</th>\n",
              "      <td>7.800000</td>\n",
              "      <td>100545.750000</td>\n",
              "    </tr>\n",
              "    <tr>\n",
              "      <th>max</th>\n",
              "      <td>10.600000</td>\n",
              "      <td>122392.000000</td>\n",
              "    </tr>\n",
              "  </tbody>\n",
              "</table>\n",
<<<<<<< HEAD
              "</div>"
            ],
            "text/plain": [
              "       YearsExperience         Salary\n",
              "count        30.000000      30.000000\n",
              "mean          5.413333   76004.000000\n",
              "std           2.837888   27414.429785\n",
              "min           1.200000   37732.000000\n",
              "25%           3.300000   56721.750000\n",
              "50%           4.800000   65238.000000\n",
              "75%           7.800000  100545.750000\n",
              "max          10.600000  122392.000000"
            ]
          },
          "execution_count": 4,
          "metadata": {},
          "output_type": "execute_result"
        }
      ],
      "source": [
        "df.describe()"
=======
              "</div>\n",
              "    <div class=\"colab-df-buttons\">\n",
              "\n",
              "  <div class=\"colab-df-container\">\n",
              "    <button class=\"colab-df-convert\" onclick=\"convertToInteractive('df-060aba01-ad6c-4c0a-8841-7647b3c0f831')\"\n",
              "            title=\"Convert this dataframe to an interactive table.\"\n",
              "            style=\"display:none;\">\n",
              "\n",
              "  <svg xmlns=\"http://www.w3.org/2000/svg\" height=\"24px\" viewBox=\"0 -960 960 960\">\n",
              "    <path d=\"M120-120v-720h720v720H120Zm60-500h600v-160H180v160Zm220 220h160v-160H400v160Zm0 220h160v-160H400v160ZM180-400h160v-160H180v160Zm440 0h160v-160H620v160ZM180-180h160v-160H180v160Zm440 0h160v-160H620v160Z\"/>\n",
              "  </svg>\n",
              "    </button>\n",
              "\n",
              "  <style>\n",
              "    .colab-df-container {\n",
              "      display:flex;\n",
              "      gap: 12px;\n",
              "    }\n",
              "\n",
              "    .colab-df-convert {\n",
              "      background-color: #E8F0FE;\n",
              "      border: none;\n",
              "      border-radius: 50%;\n",
              "      cursor: pointer;\n",
              "      display: none;\n",
              "      fill: #1967D2;\n",
              "      height: 32px;\n",
              "      padding: 0 0 0 0;\n",
              "      width: 32px;\n",
              "    }\n",
              "\n",
              "    .colab-df-convert:hover {\n",
              "      background-color: #E2EBFA;\n",
              "      box-shadow: 0px 1px 2px rgba(60, 64, 67, 0.3), 0px 1px 3px 1px rgba(60, 64, 67, 0.15);\n",
              "      fill: #174EA6;\n",
              "    }\n",
              "\n",
              "    .colab-df-buttons div {\n",
              "      margin-bottom: 4px;\n",
              "    }\n",
              "\n",
              "    [theme=dark] .colab-df-convert {\n",
              "      background-color: #3B4455;\n",
              "      fill: #D2E3FC;\n",
              "    }\n",
              "\n",
              "    [theme=dark] .colab-df-convert:hover {\n",
              "      background-color: #434B5C;\n",
              "      box-shadow: 0px 1px 3px 1px rgba(0, 0, 0, 0.15);\n",
              "      filter: drop-shadow(0px 1px 2px rgba(0, 0, 0, 0.3));\n",
              "      fill: #FFFFFF;\n",
              "    }\n",
              "  </style>\n",
              "\n",
              "    <script>\n",
              "      const buttonEl =\n",
              "        document.querySelector('#df-060aba01-ad6c-4c0a-8841-7647b3c0f831 button.colab-df-convert');\n",
              "      buttonEl.style.display =\n",
              "        google.colab.kernel.accessAllowed ? 'block' : 'none';\n",
              "\n",
              "      async function convertToInteractive(key) {\n",
              "        const element = document.querySelector('#df-060aba01-ad6c-4c0a-8841-7647b3c0f831');\n",
              "        const dataTable =\n",
              "          await google.colab.kernel.invokeFunction('convertToInteractive',\n",
              "                                                    [key], {});\n",
              "        if (!dataTable) return;\n",
              "\n",
              "        const docLinkHtml = 'Like what you see? Visit the ' +\n",
              "          '<a target=\"_blank\" href=https://colab.research.google.com/notebooks/data_table.ipynb>data table notebook</a>'\n",
              "          + ' to learn more about interactive tables.';\n",
              "        element.innerHTML = '';\n",
              "        dataTable['output_type'] = 'display_data';\n",
              "        await google.colab.output.renderOutput(dataTable, element);\n",
              "        const docLink = document.createElement('div');\n",
              "        docLink.innerHTML = docLinkHtml;\n",
              "        element.appendChild(docLink);\n",
              "      }\n",
              "    </script>\n",
              "  </div>\n",
              "\n",
              "\n",
              "    <div id=\"df-7fc32949-4f96-4c4b-bdba-5374bdc4ecd4\">\n",
              "      <button class=\"colab-df-quickchart\" onclick=\"quickchart('df-7fc32949-4f96-4c4b-bdba-5374bdc4ecd4')\"\n",
              "                title=\"Suggest charts\"\n",
              "                style=\"display:none;\">\n",
              "\n",
              "<svg xmlns=\"http://www.w3.org/2000/svg\" height=\"24px\"viewBox=\"0 0 24 24\"\n",
              "     width=\"24px\">\n",
              "    <g>\n",
              "        <path d=\"M19 3H5c-1.1 0-2 .9-2 2v14c0 1.1.9 2 2 2h14c1.1 0 2-.9 2-2V5c0-1.1-.9-2-2-2zM9 17H7v-7h2v7zm4 0h-2V7h2v10zm4 0h-2v-4h2v4z\"/>\n",
              "    </g>\n",
              "</svg>\n",
              "      </button>\n",
              "\n",
              "<style>\n",
              "  .colab-df-quickchart {\n",
              "      --bg-color: #E8F0FE;\n",
              "      --fill-color: #1967D2;\n",
              "      --hover-bg-color: #E2EBFA;\n",
              "      --hover-fill-color: #174EA6;\n",
              "      --disabled-fill-color: #AAA;\n",
              "      --disabled-bg-color: #DDD;\n",
              "  }\n",
              "\n",
              "  [theme=dark] .colab-df-quickchart {\n",
              "      --bg-color: #3B4455;\n",
              "      --fill-color: #D2E3FC;\n",
              "      --hover-bg-color: #434B5C;\n",
              "      --hover-fill-color: #FFFFFF;\n",
              "      --disabled-bg-color: #3B4455;\n",
              "      --disabled-fill-color: #666;\n",
              "  }\n",
              "\n",
              "  .colab-df-quickchart {\n",
              "    background-color: var(--bg-color);\n",
              "    border: none;\n",
              "    border-radius: 50%;\n",
              "    cursor: pointer;\n",
              "    display: none;\n",
              "    fill: var(--fill-color);\n",
              "    height: 32px;\n",
              "    padding: 0;\n",
              "    width: 32px;\n",
              "  }\n",
              "\n",
              "  .colab-df-quickchart:hover {\n",
              "    background-color: var(--hover-bg-color);\n",
              "    box-shadow: 0 1px 2px rgba(60, 64, 67, 0.3), 0 1px 3px 1px rgba(60, 64, 67, 0.15);\n",
              "    fill: var(--button-hover-fill-color);\n",
              "  }\n",
              "\n",
              "  .colab-df-quickchart-complete:disabled,\n",
              "  .colab-df-quickchart-complete:disabled:hover {\n",
              "    background-color: var(--disabled-bg-color);\n",
              "    fill: var(--disabled-fill-color);\n",
              "    box-shadow: none;\n",
              "  }\n",
              "\n",
              "  .colab-df-spinner {\n",
              "    border: 2px solid var(--fill-color);\n",
              "    border-color: transparent;\n",
              "    border-bottom-color: var(--fill-color);\n",
              "    animation:\n",
              "      spin 1s steps(1) infinite;\n",
              "  }\n",
              "\n",
              "  @keyframes spin {\n",
              "    0% {\n",
              "      border-color: transparent;\n",
              "      border-bottom-color: var(--fill-color);\n",
              "      border-left-color: var(--fill-color);\n",
              "    }\n",
              "    20% {\n",
              "      border-color: transparent;\n",
              "      border-left-color: var(--fill-color);\n",
              "      border-top-color: var(--fill-color);\n",
              "    }\n",
              "    30% {\n",
              "      border-color: transparent;\n",
              "      border-left-color: var(--fill-color);\n",
              "      border-top-color: var(--fill-color);\n",
              "      border-right-color: var(--fill-color);\n",
              "    }\n",
              "    40% {\n",
              "      border-color: transparent;\n",
              "      border-right-color: var(--fill-color);\n",
              "      border-top-color: var(--fill-color);\n",
              "    }\n",
              "    60% {\n",
              "      border-color: transparent;\n",
              "      border-right-color: var(--fill-color);\n",
              "    }\n",
              "    80% {\n",
              "      border-color: transparent;\n",
              "      border-right-color: var(--fill-color);\n",
              "      border-bottom-color: var(--fill-color);\n",
              "    }\n",
              "    90% {\n",
              "      border-color: transparent;\n",
              "      border-bottom-color: var(--fill-color);\n",
              "    }\n",
              "  }\n",
              "</style>\n",
              "\n",
              "      <script>\n",
              "        async function quickchart(key) {\n",
              "          const quickchartButtonEl =\n",
              "            document.querySelector('#' + key + ' button');\n",
              "          quickchartButtonEl.disabled = true;  // To prevent multiple clicks.\n",
              "          quickchartButtonEl.classList.add('colab-df-spinner');\n",
              "          try {\n",
              "            const charts = await google.colab.kernel.invokeFunction(\n",
              "                'suggestCharts', [key], {});\n",
              "          } catch (error) {\n",
              "            console.error('Error during call to suggestCharts:', error);\n",
              "          }\n",
              "          quickchartButtonEl.classList.remove('colab-df-spinner');\n",
              "          quickchartButtonEl.classList.add('colab-df-quickchart-complete');\n",
              "        }\n",
              "        (() => {\n",
              "          let quickchartButtonEl =\n",
              "            document.querySelector('#df-7fc32949-4f96-4c4b-bdba-5374bdc4ecd4 button');\n",
              "          quickchartButtonEl.style.display =\n",
              "            google.colab.kernel.accessAllowed ? 'block' : 'none';\n",
              "        })();\n",
              "      </script>\n",
              "    </div>\n",
              "\n",
              "    </div>\n",
              "  </div>\n"
            ],
            "application/vnd.google.colaboratory.intrinsic+json": {
              "type": "dataframe",
              "summary": "{\n  \"name\": \"df\",\n  \"rows\": 8,\n  \"fields\": [\n    {\n      \"column\": \"YearsExperience\",\n      \"properties\": {\n        \"dtype\": \"number\",\n        \"std\": 9.275407845895339,\n        \"min\": 1.2000000000000002,\n        \"max\": 30.0,\n        \"num_unique_values\": 8,\n        \"samples\": [\n          5.413333333333332,\n          4.8,\n          30.0\n        ],\n        \"semantic_type\": \"\",\n        \"description\": \"\"\n      }\n    },\n    {\n      \"column\": \"Salary\",\n      \"properties\": {\n        \"dtype\": \"number\",\n        \"std\": 39606.091787178084,\n        \"min\": 30.0,\n        \"max\": 122392.0,\n        \"num_unique_values\": 8,\n        \"samples\": [\n          76004.0,\n          65238.0,\n          30.0\n        ],\n        \"semantic_type\": \"\",\n        \"description\": \"\"\n      }\n    }\n  ]\n}"
            }
          },
          "metadata": {},
          "execution_count": 247
        }
>>>>>>> fe574affc3ded318263bbbc35e20b4a1cbf12fd1
      ]
    },
    {
      "cell_type": "code",
<<<<<<< HEAD
      "execution_count": 5,
=======
      "source": [
        "print(df.columns)"
      ],
>>>>>>> fe574affc3ded318263bbbc35e20b4a1cbf12fd1
      "metadata": {
        "colab": {
          "base_uri": "https://localhost:8080/"
        },
        "id": "3ArMqaorKdaZ",
        "outputId": "60374ac1-14d2-45d0-8b71-8c3b0666582b"
      },
<<<<<<< HEAD
      "outputs": [
        {
          "name": "stdout",
          "output_type": "stream",
=======
      "execution_count": 248,
      "outputs": [
        {
          "output_type": "stream",
          "name": "stdout",
>>>>>>> fe574affc3ded318263bbbc35e20b4a1cbf12fd1
          "text": [
            "Index(['YearsExperience', 'Salary'], dtype='object')\n"
          ]
        }
<<<<<<< HEAD
      ],
      "source": [
        "print(df.columns)"
=======
>>>>>>> fe574affc3ded318263bbbc35e20b4a1cbf12fd1
      ]
    },
    {
      "cell_type": "markdown",
<<<<<<< HEAD
      "metadata": {
        "id": "_vhhAs0i2E48"
      },
      "source": [
        "find the skewness of the data"
      ]
    },
    {
      "cell_type": "code",
      "execution_count": 6,
=======
      "source": [
        "find the skewness of the data"
      ],
      "metadata": {
        "id": "_vhhAs0i2E48"
      }
    },
    {
      "cell_type": "code",
      "source": [
        "df.info()"
      ],
>>>>>>> fe574affc3ded318263bbbc35e20b4a1cbf12fd1
      "metadata": {
        "colab": {
          "base_uri": "https://localhost:8080/"
        },
        "id": "KCsHNTDm2DzU",
        "outputId": "0f36b085-c9d3-4c28-9ca3-ec1b98c77fc1"
      },
<<<<<<< HEAD
      "outputs": [
        {
          "name": "stdout",
          "output_type": "stream",
=======
      "execution_count": 249,
      "outputs": [
        {
          "output_type": "stream",
          "name": "stdout",
>>>>>>> fe574affc3ded318263bbbc35e20b4a1cbf12fd1
          "text": [
            "<class 'pandas.core.frame.DataFrame'>\n",
            "RangeIndex: 30 entries, 0 to 29\n",
            "Data columns (total 2 columns):\n",
            " #   Column           Non-Null Count  Dtype  \n",
            "---  ------           --------------  -----  \n",
            " 0   YearsExperience  30 non-null     float64\n",
            " 1   Salary           30 non-null     float64\n",
            "dtypes: float64(2)\n",
<<<<<<< HEAD
            "memory usage: 608.0 bytes\n"
          ]
        }
      ],
      "source": [
        "df.info()"
=======
            "memory usage: 612.0 bytes\n"
          ]
        }
>>>>>>> fe574affc3ded318263bbbc35e20b4a1cbf12fd1
      ]
    },
    {
      "cell_type": "code",
<<<<<<< HEAD
      "execution_count": 7,
=======
      "source": [
        "df = df.drop(columns=['Unnamed: 0'],errors='ignore')\n",
        "df.to_csv(\"Salary_dataset.csv\", index=False)\n",
        "df.head(5)"
      ],
>>>>>>> fe574affc3ded318263bbbc35e20b4a1cbf12fd1
      "metadata": {
        "colab": {
          "base_uri": "https://localhost:8080/",
          "height": 206
        },
        "id": "XWEdosDA3xE9",
        "outputId": "e3441873-ce74-4a00-a5ee-e0ffcb703141"
      },
<<<<<<< HEAD
      "outputs": [
        {
          "data": {
            "text/html": [
              "<div>\n",
=======
      "execution_count": 250,
      "outputs": [
        {
          "output_type": "execute_result",
          "data": {
            "text/plain": [
              "   YearsExperience   Salary\n",
              "0              1.2  39344.0\n",
              "1              1.4  46206.0\n",
              "2              1.6  37732.0\n",
              "3              2.1  43526.0\n",
              "4              2.3  39892.0"
            ],
            "text/html": [
              "\n",
              "  <div id=\"df-993ab386-18a6-49dd-a5c9-6aa0ff7111a2\" class=\"colab-df-container\">\n",
              "    <div>\n",
>>>>>>> fe574affc3ded318263bbbc35e20b4a1cbf12fd1
              "<style scoped>\n",
              "    .dataframe tbody tr th:only-of-type {\n",
              "        vertical-align: middle;\n",
              "    }\n",
              "\n",
              "    .dataframe tbody tr th {\n",
              "        vertical-align: top;\n",
              "    }\n",
              "\n",
              "    .dataframe thead th {\n",
              "        text-align: right;\n",
              "    }\n",
              "</style>\n",
              "<table border=\"1\" class=\"dataframe\">\n",
              "  <thead>\n",
              "    <tr style=\"text-align: right;\">\n",
              "      <th></th>\n",
              "      <th>YearsExperience</th>\n",
              "      <th>Salary</th>\n",
              "    </tr>\n",
              "  </thead>\n",
              "  <tbody>\n",
              "    <tr>\n",
              "      <th>0</th>\n",
              "      <td>1.2</td>\n",
              "      <td>39344.0</td>\n",
              "    </tr>\n",
              "    <tr>\n",
              "      <th>1</th>\n",
              "      <td>1.4</td>\n",
              "      <td>46206.0</td>\n",
              "    </tr>\n",
              "    <tr>\n",
              "      <th>2</th>\n",
              "      <td>1.6</td>\n",
              "      <td>37732.0</td>\n",
              "    </tr>\n",
              "    <tr>\n",
              "      <th>3</th>\n",
              "      <td>2.1</td>\n",
              "      <td>43526.0</td>\n",
              "    </tr>\n",
              "    <tr>\n",
              "      <th>4</th>\n",
              "      <td>2.3</td>\n",
              "      <td>39892.0</td>\n",
              "    </tr>\n",
              "  </tbody>\n",
              "</table>\n",
<<<<<<< HEAD
              "</div>"
            ],
            "text/plain": [
              "   YearsExperience   Salary\n",
              "0              1.2  39344.0\n",
              "1              1.4  46206.0\n",
              "2              1.6  37732.0\n",
              "3              2.1  43526.0\n",
              "4              2.3  39892.0"
            ]
          },
          "execution_count": 7,
          "metadata": {},
          "output_type": "execute_result"
        }
      ],
      "source": [
        "df = df.drop(columns=['Unnamed: 0'],errors='ignore')\n",
        "df.to_csv(\"Salary_dataset.csv\", index=False)\n",
        "df.head(5)"
=======
              "</div>\n",
              "    <div class=\"colab-df-buttons\">\n",
              "\n",
              "  <div class=\"colab-df-container\">\n",
              "    <button class=\"colab-df-convert\" onclick=\"convertToInteractive('df-993ab386-18a6-49dd-a5c9-6aa0ff7111a2')\"\n",
              "            title=\"Convert this dataframe to an interactive table.\"\n",
              "            style=\"display:none;\">\n",
              "\n",
              "  <svg xmlns=\"http://www.w3.org/2000/svg\" height=\"24px\" viewBox=\"0 -960 960 960\">\n",
              "    <path d=\"M120-120v-720h720v720H120Zm60-500h600v-160H180v160Zm220 220h160v-160H400v160Zm0 220h160v-160H400v160ZM180-400h160v-160H180v160Zm440 0h160v-160H620v160ZM180-180h160v-160H180v160Zm440 0h160v-160H620v160Z\"/>\n",
              "  </svg>\n",
              "    </button>\n",
              "\n",
              "  <style>\n",
              "    .colab-df-container {\n",
              "      display:flex;\n",
              "      gap: 12px;\n",
              "    }\n",
              "\n",
              "    .colab-df-convert {\n",
              "      background-color: #E8F0FE;\n",
              "      border: none;\n",
              "      border-radius: 50%;\n",
              "      cursor: pointer;\n",
              "      display: none;\n",
              "      fill: #1967D2;\n",
              "      height: 32px;\n",
              "      padding: 0 0 0 0;\n",
              "      width: 32px;\n",
              "    }\n",
              "\n",
              "    .colab-df-convert:hover {\n",
              "      background-color: #E2EBFA;\n",
              "      box-shadow: 0px 1px 2px rgba(60, 64, 67, 0.3), 0px 1px 3px 1px rgba(60, 64, 67, 0.15);\n",
              "      fill: #174EA6;\n",
              "    }\n",
              "\n",
              "    .colab-df-buttons div {\n",
              "      margin-bottom: 4px;\n",
              "    }\n",
              "\n",
              "    [theme=dark] .colab-df-convert {\n",
              "      background-color: #3B4455;\n",
              "      fill: #D2E3FC;\n",
              "    }\n",
              "\n",
              "    [theme=dark] .colab-df-convert:hover {\n",
              "      background-color: #434B5C;\n",
              "      box-shadow: 0px 1px 3px 1px rgba(0, 0, 0, 0.15);\n",
              "      filter: drop-shadow(0px 1px 2px rgba(0, 0, 0, 0.3));\n",
              "      fill: #FFFFFF;\n",
              "    }\n",
              "  </style>\n",
              "\n",
              "    <script>\n",
              "      const buttonEl =\n",
              "        document.querySelector('#df-993ab386-18a6-49dd-a5c9-6aa0ff7111a2 button.colab-df-convert');\n",
              "      buttonEl.style.display =\n",
              "        google.colab.kernel.accessAllowed ? 'block' : 'none';\n",
              "\n",
              "      async function convertToInteractive(key) {\n",
              "        const element = document.querySelector('#df-993ab386-18a6-49dd-a5c9-6aa0ff7111a2');\n",
              "        const dataTable =\n",
              "          await google.colab.kernel.invokeFunction('convertToInteractive',\n",
              "                                                    [key], {});\n",
              "        if (!dataTable) return;\n",
              "\n",
              "        const docLinkHtml = 'Like what you see? Visit the ' +\n",
              "          '<a target=\"_blank\" href=https://colab.research.google.com/notebooks/data_table.ipynb>data table notebook</a>'\n",
              "          + ' to learn more about interactive tables.';\n",
              "        element.innerHTML = '';\n",
              "        dataTable['output_type'] = 'display_data';\n",
              "        await google.colab.output.renderOutput(dataTable, element);\n",
              "        const docLink = document.createElement('div');\n",
              "        docLink.innerHTML = docLinkHtml;\n",
              "        element.appendChild(docLink);\n",
              "      }\n",
              "    </script>\n",
              "  </div>\n",
              "\n",
              "\n",
              "    <div id=\"df-f6b300c8-c93a-44d7-9eeb-15f9403a1b8a\">\n",
              "      <button class=\"colab-df-quickchart\" onclick=\"quickchart('df-f6b300c8-c93a-44d7-9eeb-15f9403a1b8a')\"\n",
              "                title=\"Suggest charts\"\n",
              "                style=\"display:none;\">\n",
              "\n",
              "<svg xmlns=\"http://www.w3.org/2000/svg\" height=\"24px\"viewBox=\"0 0 24 24\"\n",
              "     width=\"24px\">\n",
              "    <g>\n",
              "        <path d=\"M19 3H5c-1.1 0-2 .9-2 2v14c0 1.1.9 2 2 2h14c1.1 0 2-.9 2-2V5c0-1.1-.9-2-2-2zM9 17H7v-7h2v7zm4 0h-2V7h2v10zm4 0h-2v-4h2v4z\"/>\n",
              "    </g>\n",
              "</svg>\n",
              "      </button>\n",
              "\n",
              "<style>\n",
              "  .colab-df-quickchart {\n",
              "      --bg-color: #E8F0FE;\n",
              "      --fill-color: #1967D2;\n",
              "      --hover-bg-color: #E2EBFA;\n",
              "      --hover-fill-color: #174EA6;\n",
              "      --disabled-fill-color: #AAA;\n",
              "      --disabled-bg-color: #DDD;\n",
              "  }\n",
              "\n",
              "  [theme=dark] .colab-df-quickchart {\n",
              "      --bg-color: #3B4455;\n",
              "      --fill-color: #D2E3FC;\n",
              "      --hover-bg-color: #434B5C;\n",
              "      --hover-fill-color: #FFFFFF;\n",
              "      --disabled-bg-color: #3B4455;\n",
              "      --disabled-fill-color: #666;\n",
              "  }\n",
              "\n",
              "  .colab-df-quickchart {\n",
              "    background-color: var(--bg-color);\n",
              "    border: none;\n",
              "    border-radius: 50%;\n",
              "    cursor: pointer;\n",
              "    display: none;\n",
              "    fill: var(--fill-color);\n",
              "    height: 32px;\n",
              "    padding: 0;\n",
              "    width: 32px;\n",
              "  }\n",
              "\n",
              "  .colab-df-quickchart:hover {\n",
              "    background-color: var(--hover-bg-color);\n",
              "    box-shadow: 0 1px 2px rgba(60, 64, 67, 0.3), 0 1px 3px 1px rgba(60, 64, 67, 0.15);\n",
              "    fill: var(--button-hover-fill-color);\n",
              "  }\n",
              "\n",
              "  .colab-df-quickchart-complete:disabled,\n",
              "  .colab-df-quickchart-complete:disabled:hover {\n",
              "    background-color: var(--disabled-bg-color);\n",
              "    fill: var(--disabled-fill-color);\n",
              "    box-shadow: none;\n",
              "  }\n",
              "\n",
              "  .colab-df-spinner {\n",
              "    border: 2px solid var(--fill-color);\n",
              "    border-color: transparent;\n",
              "    border-bottom-color: var(--fill-color);\n",
              "    animation:\n",
              "      spin 1s steps(1) infinite;\n",
              "  }\n",
              "\n",
              "  @keyframes spin {\n",
              "    0% {\n",
              "      border-color: transparent;\n",
              "      border-bottom-color: var(--fill-color);\n",
              "      border-left-color: var(--fill-color);\n",
              "    }\n",
              "    20% {\n",
              "      border-color: transparent;\n",
              "      border-left-color: var(--fill-color);\n",
              "      border-top-color: var(--fill-color);\n",
              "    }\n",
              "    30% {\n",
              "      border-color: transparent;\n",
              "      border-left-color: var(--fill-color);\n",
              "      border-top-color: var(--fill-color);\n",
              "      border-right-color: var(--fill-color);\n",
              "    }\n",
              "    40% {\n",
              "      border-color: transparent;\n",
              "      border-right-color: var(--fill-color);\n",
              "      border-top-color: var(--fill-color);\n",
              "    }\n",
              "    60% {\n",
              "      border-color: transparent;\n",
              "      border-right-color: var(--fill-color);\n",
              "    }\n",
              "    80% {\n",
              "      border-color: transparent;\n",
              "      border-right-color: var(--fill-color);\n",
              "      border-bottom-color: var(--fill-color);\n",
              "    }\n",
              "    90% {\n",
              "      border-color: transparent;\n",
              "      border-bottom-color: var(--fill-color);\n",
              "    }\n",
              "  }\n",
              "</style>\n",
              "\n",
              "      <script>\n",
              "        async function quickchart(key) {\n",
              "          const quickchartButtonEl =\n",
              "            document.querySelector('#' + key + ' button');\n",
              "          quickchartButtonEl.disabled = true;  // To prevent multiple clicks.\n",
              "          quickchartButtonEl.classList.add('colab-df-spinner');\n",
              "          try {\n",
              "            const charts = await google.colab.kernel.invokeFunction(\n",
              "                'suggestCharts', [key], {});\n",
              "          } catch (error) {\n",
              "            console.error('Error during call to suggestCharts:', error);\n",
              "          }\n",
              "          quickchartButtonEl.classList.remove('colab-df-spinner');\n",
              "          quickchartButtonEl.classList.add('colab-df-quickchart-complete');\n",
              "        }\n",
              "        (() => {\n",
              "          let quickchartButtonEl =\n",
              "            document.querySelector('#df-f6b300c8-c93a-44d7-9eeb-15f9403a1b8a button');\n",
              "          quickchartButtonEl.style.display =\n",
              "            google.colab.kernel.accessAllowed ? 'block' : 'none';\n",
              "        })();\n",
              "      </script>\n",
              "    </div>\n",
              "\n",
              "    </div>\n",
              "  </div>\n"
            ],
            "application/vnd.google.colaboratory.intrinsic+json": {
              "type": "dataframe",
              "variable_name": "df",
              "summary": "{\n  \"name\": \"df\",\n  \"rows\": 30,\n  \"fields\": [\n    {\n      \"column\": \"YearsExperience\",\n      \"properties\": {\n        \"dtype\": \"number\",\n        \"std\": 2.8378881576627184,\n        \"min\": 1.2000000000000002,\n        \"max\": 10.6,\n        \"num_unique_values\": 28,\n        \"samples\": [\n          4.0,\n          9.7,\n          3.8\n        ],\n        \"semantic_type\": \"\",\n        \"description\": \"\"\n      }\n    },\n    {\n      \"column\": \"Salary\",\n      \"properties\": {\n        \"dtype\": \"number\",\n        \"std\": 27414.4297845823,\n        \"min\": 37732.0,\n        \"max\": 122392.0,\n        \"num_unique_values\": 30,\n        \"samples\": [\n          112636.0,\n          67939.0,\n          113813.0\n        ],\n        \"semantic_type\": \"\",\n        \"description\": \"\"\n      }\n    }\n  ]\n}"
            }
          },
          "metadata": {},
          "execution_count": 250
        }
>>>>>>> fe574affc3ded318263bbbc35e20b4a1cbf12fd1
      ]
    },
    {
      "cell_type": "code",
<<<<<<< HEAD
      "execution_count": 8,
      "metadata": {
        "colab": {
          "base_uri": "https://localhost:8080/",
          "height": 490
        },
        "id": "a6gXWIgxMBsq",
        "outputId": "138d7564-c00b-483d-9355-bf7352e2478c"
      },
      "outputs": [
        {
          "name": "stdout",
          "output_type": "stream",
          "text": [
            "Skewness for YearsExperience: 0.37956024064804234\n"
          ]
        },
        {
          "data": {
            "image/png": "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",
            "text/plain": [
              "<Figure size 640x480 with 1 Axes>"
            ]
          },
          "metadata": {},
          "output_type": "display_data"
        }
      ],
=======
>>>>>>> fe574affc3ded318263bbbc35e20b4a1cbf12fd1
      "source": [
        "print(\"Skewness for YearsExperience:\", df['YearsExperience'].skew())\n",
        "plt.figure()\n",
        "sns.histplot(df['YearsExperience'], bins=10, color='lightgreen', edgecolor='purple', kde=True)\n",
        "plt.title('Years of Experience Distribution')\n",
        "plt.xlabel('YearsExperience')\n",
        "plt.ylabel('Frequency')\n",
        "plt.show()"
<<<<<<< HEAD
=======
      ],
      "metadata": {
        "colab": {
          "base_uri": "https://localhost:8080/",
          "height": 490
        },
        "id": "a6gXWIgxMBsq",
        "outputId": "138d7564-c00b-483d-9355-bf7352e2478c"
      },
      "execution_count": 251,
      "outputs": [
        {
          "output_type": "stream",
          "name": "stdout",
          "text": [
            "Skewness for YearsExperience: 0.37956024064804234\n"
          ]
        },
        {
          "output_type": "display_data",
          "data": {
            "text/plain": [
              "<Figure size 640x480 with 1 Axes>"
            ],
            "image/png": "iVBORw0KGgoAAAANSUhEUgAAAioAAAHHCAYAAACRAnNyAAAAOnRFWHRTb2Z0d2FyZQBNYXRwbG90bGliIHZlcnNpb24zLjEwLjAsIGh0dHBzOi8vbWF0cGxvdGxpYi5vcmcvlHJYcgAAAAlwSFlzAAAPYQAAD2EBqD+naQAAVJJJREFUeJzt3Xd8FHXiPvBntmazyaaRQkxIQkhoCUoRFaRJRxAR8eyA3qn3hQNEPOW+XwVExcqpPxXLKVjwQEUQG1VEUVQ6REoCpJGENNI2m63z+f2Ry55rAoSQMJPked9rX+fOzu4+mSzJk5nPfEYSQggQERERqZBG6QBEREREZ8OiQkRERKrFokJERESqxaJCREREqsWiQkRERKrFokJERESqxaJCREREqsWiQkRERKrFokJERESqxaJCpKDCwkLcfPPNCAsLgyRJeOmll5SO1CKysrIgSRJWrFihdJRL7rvvvoMkSfjuu+9a/L0WLlwISZJ8lkmShJkzZ7b4ewPAihUrIEkSsrKyLsn7UfvAokKqMnbsWISEhKCwsLDeYxUVFejYsSOuuuoqyLKsQLrm9+CDD2Ljxo2YP38+PvjgA4wZM+as60qSdNbbAw88cAlTt191havuptfr0aFDBwwYMAD/+Mc/kJOT02zv9fTTT2PdunXN9nrNSc3ZqO2ReK0fUpPMzEykpKRg4sSJ+Oijj3wemzFjBt566y3s3r0bl19+uUIJm1dUVBRGjBiBDz/88LzrSpKEkSNH4u677673WHJyMvr3798SEZuFEAIOhwN6vR5arVbpOE2WlZWFhIQE3HbbbRg3bhxkWUZZWRl27dqFzz77DJIk4Z133sGtt97qfY4sy3A6nTAYDNBoGv+3YUBAAG6++eYL2gvldrvhdrvh5+fnXSZJEmbMmIFXX3210a/T1GwejwculwtGo7Henh2iptIpHYDo9xISErBgwQI88sgjmDZtGkaNGgUA2LVrF9544w3MmzevxUuK3W6/4F8qTVVUVITg4OBGr5+cnIw777yz5QI1M7fbDVmWYTAYfH55tnZ9+vSp933Izs7GqFGjMHXqVHTv3t37OdVoNC3+tVdXV8NsNkOn00GnU+7HularbdVFlNSJh35IdebOnYtevXrhf/7nf2C32+HxePDAAw8gLi4OCxYswNGjR3HzzTcjNDQUfn5+6NevH9avX+/zGmfOnMG8efOQmpqKgIAAWCwWjB07FgcOHPBZr278wKpVq/B///d/uOyyy+Dv74/Kykq4XC4sWrQISUlJ8PPzQ1hYGK699lps3rz5vF/DyZMnMWXKFISGhsLf3x9XX301vvrqK+/jdcfyhRB47bXXvIcSLtaRI0dgMpnq7XXZsWMHtFotHnnkEe+y+Ph4jB8/Hps2bcIVV1wBPz8/9OjRA5999lm91y0vL8ecOXMQGxsLo9GILl264Nlnn/U5BFd3WOSFF17ASy+9hMTERBiNRhw+fPisY1Qa872s21Y//vgj5s6di/DwcJjNZkyaNAnFxcX1sn7zzTcYMmQIAgMDYbFYcOWVV9bbO/fLL79gzJgxCAoKgr+/P4YMGYIff/yx0du5IXFxcVixYgWcTieee+457/KGxqhkZGRg8uTJiIqKgp+fH2JiYnDrrbeioqICQO1ekOrqarz33nvez8a0adMA/HccyuHDh3H77bcjJCQE1157rc9jDVm5ciW6du0KPz8/9O3bF99//73P49OmTUN8fHy95/3xNc+V7WxjVF5//XX07NkTRqMR0dHRmDFjBsrLy33WGTp0KFJSUnD48GEMGzYM/v7+uOyyy3y2JbVP3KNCqqPT6fDWW29hwIABWLx4MSIiIrB3715s2LABmZmZGDhwIC677DI8+uijMJvN+Pjjj3HjjTdizZo1mDRpEoDaorBu3TpMmTIFCQkJKCwsxJtvvokhQ4bg8OHDiI6O9nnPxYsXw2AwYN68eXA4HDAYDFi4cCGWLFmCP//5z+jfvz8qKyuxe/du7N27FyNHjjxr/sLCQgwYMAA2mw2zZs1CWFgY3nvvPdxwww349NNPMWnSJAwePBgffPAB7rrrrrMezmmI3W5HSUlJveUWiwUGgwHdu3fH4sWL8fDDD+Pmm2/GDTfcgOrqakybNg3dunXDE0884fO8jIwM/OlPf8IDDzyAqVOnYvny5ZgyZQo2bNjg/RptNhuGDBmCvLw83H///ejUqRN++uknzJ8/HwUFBfUGAC9fvhx2ux333XcfjEYjQkNDGxxT9NtvvzXqe1nnb3/7G0JCQrBgwQJkZWXhpZdewsyZM7F69WrvOitWrMA999yDnj17Yv78+QgODsa+ffuwYcMG3H777QCAb7/9FmPHjkXfvn2xYMECaDQaLF++HNdddx1++OGHizqEds011yAxMfGcZdbpdGL06NFwOBz429/+hqioKOTl5eHLL79EeXk5goKC8MEHH3g/d/fddx8AIDEx0ed1pkyZgqSkJDz99NM43xH87du3Y/Xq1Zg1axaMRiNef/11jBkzBr/++itSUlIu6GtsTLbfW7hwIRYtWoQRI0bgr3/9K44dO4Zly5Zh165d+PHHH6HX673rlpWVYcyYMbjppptwyy234NNPP8UjjzyC1NRUjB079oJyUhsiiFRq5syZQq/Xi4CAAHHbbbcJIYQYPny4SE1NFXa73bueLMtiwIABIikpybvMbrcLj8fj83qZmZnCaDSKJ554wrts27ZtAoDo3LmzsNlsPutffvnl4vrrr7/g3HPmzBEAxA8//OBdVlVVJRISEkR8fLxPLgBixowZjXpdAGe9/fvf//au5/F4xLXXXisiIyNFSUmJmDFjhtDpdGLXrl0+rxcXFycAiDVr1niXVVRUiI4dO4revXt7ly1evFiYzWaRnp7u8/xHH31UaLVakZOTI4So3b4AhMViEUVFRT7r1j22fPly77LGfi+XL18uAIgRI0YIWZa9yx988EGh1WpFeXm5EEKI8vJyERgYKK666ipRU1Pj8/51z5NlWSQlJYnRo0f7vJbNZhMJCQli5MiRDW36el/H888/f9Z1Jk6cKACIiooKIcR/P2Pbtm0TQgixb98+AUB88skn53wvs9kspk6dWm/5ggULBADvv4mGHvu9us/I7t27vcuys7OFn5+fmDRpknfZ1KlTRVxcXKNe82zZ6r5XmZmZQgghioqKhMFgEKNGjfL53L/66qsCgHj33Xe9y4YMGSIAiPfff9+7zOFwiKioKDF58uR670XtBw/9kGo99dRTCAsLg0ajwT//+U+cOXMG3377LW655RZUVVWhpKQEJSUlKC0txejRo5GRkYG8vDwAgNFo9I4x8Xg8KC0tRUBAALp27Yq9e/fWe6+pU6fCZDL5LAsODsZvv/2GjIyMC8r99ddfo3///t7d8UDt4MP77rsPWVlZOHz48IVuCq+JEydi8+bN9W7Dhg3zrqPRaLBixQpYrVaMHTsWr7/+OubPn49+/frVe73o6GifPRcWiwV333039u3bh9OnTwMAPvnkEwwaNAghISHebV5SUoIRI0bA4/HUO4QwefJkhIeHn/PruJDvZZ377rvP5xDEoEGD4PF4kJ2dDQDYvHkzqqqq8Oijj9YbE1L3vP379yMjIwO33347SktLve9bXV2N4cOH4/vvv7/oM8oCAgIAAFVVVQ0+HhQUBADYuHEjbDZbk9/nQs70uuaaa9C3b1/v/U6dOmHixInYuHEjPB5PkzOcz5YtW+B0OjFnzhyfMV9/+ctfYLFYfA6HArXb7vdjfwwGA/r374+TJ0+2WEZSPx76IdWyWCzo2rUrSkpKEBkZiV9//RVCCDz22GN47LHHGnxOUVERLrvsMsiyjJdffhmvv/46MjMzfX4Yh4WF1XteQkJCvWVPPPEEJk6ciOTkZKSkpGDMmDG466670KtXr3Pmzs7OxlVXXVVveffu3b2PX+ju9joxMTEYMWLEeddLTEzEwoUL8fDDDyMlJeWs26tLly71xjQkJycDqB1zEhUVhYyMDBw8ePCs5aOoqMjnfkPb8o+OHz/e6O9lnU6dOvk8HhISAqD2cAEAnDhxAgDOuW3rSufUqVPPuk5FRYX3tZvCarUCAAIDAxt8PCEhAXPnzsXSpUuxcuVKDBo0CDfccAPuvPNOb4lpjMZs5zpJSUn1liUnJ8Nms6G4uBhRUVGNfq0LUVciu3bt6rPcYDCgc+fO3sfrxMTE1Ps8hoSE4ODBgy2Sj1oHFhVqNer+0p03bx5Gjx7d4DpdunQBUDvPw2OPPYZ77rkHixcvRmhoKDQaDebMmdPgX8x/3JsCAIMHD8aJEyfw+eefY9OmTfjXv/6Ff/7zn3jjjTfw5z//uRm/spaxadMmAEB+fj5KS0ub/MtIlmWMHDkSf//73xt8vK7Y1GloWzb0mkDjvpd1znY2ibiAGRbq3vf555/HFVdc0eA6dXtEmiotLQ0RERGwWCxnXefFF1/EtGnTvJ+tWbNmYcmSJfj5558RExPTqPdpzHa+EGcbhNuSe1z+qDm+x9T2sKhQq9G5c2cAgF6vP+9ehU8//RTDhg3DO++847O8vLwcHTp0aPR7hoaGYvr06Zg+fTqsVisGDx6MhQsXnrOoxMXF4dixY/WWHz161Pt4S3vjjTewefNmPPXUU1iyZAnuv/9+fP755/XWq9uz8ftfUunp6QDgPQMkMTERVqu1UXtyGutCvpeNVTegMy0trV7J+eM6FoulWb+eOjt37sSJEycadQp5amoqUlNT8X//93/46aefMHDgQLzxxht48sknAZy9ODRFQ4cv09PT4e/v791TFhISUu9MHAD19npcSLa6z/qxY8e833OgdkBxZmZmi3wPqO3hGBVqNSIiIjB06FC8+eabKCgoqPf4709V1Wq19f4K++STT+qNeziX0tJSn/sBAQHo0qULHA7HOZ83btw4/Prrr9i5c6d3WXV1Nd566y3Ex8ejR48ejc7QFJmZmXj44YcxefJk/OMf/8ALL7yA9evX4/3336+3bn5+PtauXeu9X1lZiffffx9XXHGFdw/MLbfcgp07d2Ljxo31nl9eXg63233BGS/ke9lYo0aNQmBgIJYsWQK73e7zWN1noW/fvkhMTMQLL7zgPURzse9bJzs7G9OmTYPBYMDDDz981vUqKyvrbbPU1FRoNBqfz5bZbG6wODTFzp07fcZm5ebm4vPPP8eoUaO8ezESExNRUVHhc5iloKDA5/NxodlGjBgBg8GAV155xeff4zvvvIOKigpcf/31F/FVUXvBPSrUqrz22mu49tprkZqair/85S/o3LkzCgsLsXPnTpw6dco7T8r48ePxxBNPYPr06RgwYAAOHTqElStX+vxVdz49evTA0KFD0bdvX4SGhmL37t349NNPz3vdlEcffRT//ve/MXbsWMyaNQuhoaF47733kJmZiTVr1lzURHLp6ekNzmIbGRmJkSNHQgiBe+65ByaTCcuWLQMA3H///VizZg1mz56NESNG+JyanZycjHvvvRe7du1CZGQk3n33XRQWFmL58uXedR5++GGsX78e48ePx7Rp09C3b19UV1fj0KFD+PTTT5GVlXVBe6nqNPZ72VgWiwX//Oc/8ec//xlXXnmld46RAwcOwGaz4b333oNGo8G//vUvjB07Fj179sT06dNx2WWXIS8vD9u2bYPFYsEXX3xx3vfau3cvPvzwQ8iyjPLycuzatQtr1qyBJEn44IMPzjmO6dtvv8XMmTMxZcoUJCcnw+1244MPPoBWq8XkyZO96/Xt2xdbtmzB0qVLER0djYSEhAbHPjVGSkoKRo8e7XN6MgAsWrTIu86tt96KRx55BJMmTcKsWbNgs9mwbNkyJCcn1xuA3ths4eHhmD9/PhYtWoQxY8bghhtuwLFjx/D666/jyiuvbFWTF5KCFDvfiKgRhgwZInr27Omz7MSJE+Luu+8WUVFRQq/Xi8suu0yMHz9efPrpp9517Ha7eOihh0THjh2FyWQSAwcOFDt37hRDhgwRQ4YM8a5Xd+poQ6eKPvnkk6J///4iODhYmEwm0a1bN/HUU08Jp9N53twnTpwQN998swgODhZ+fn6if//+4ssvv6y3Hprp9OS6r+nll1+ud8qxEELk5OQIi8Uixo0b510WFxcnrr/+erFx40bRq1cvYTQaRbdu3RrcFlVVVWL+/PmiS5cuwmAwiA4dOogBAwaIF154wbs9znXqbkOnJ9dtp/N9L+tOef3j6dV/PO23zvr168WAAQOEyWQSFotF9O/f3+f0bSFqTxG+6aabRFhYmDAajSIuLk7ccsstYuvWrQ1v/D98HXU3nU4nQkNDxVVXXSXmz58vsrOz6z3njzlPnjwp7rnnHpGYmCj8/PxEaGioGDZsmNiyZYvP844ePSoGDx4sTCaTAOA9HbjudOHi4uJ673W205NnzJghPvzwQ5GUlCSMRqPo3bt3ve0mhBCbNm0SKSkpwmAwiK5du4oPP/ywwdc8W7Y/np5c59VXXxXdunUTer1eREZGir/+9a+irKzMZ52G/q0LcfbTpqn94LV+iNqp+Ph4pKSk4Msvv1Q6ChHRWXGMChEREakWiwoRERGpFosKERERqRbHqBAREZFqcY8KERERqRaLChEREalWq57wTZZl5OfnIzAwsFmnmyYiIqKWI4RAVVUVoqOjzzsJZqsuKvn5+YiNjVU6BhERETVBbm7ueS/E2aqLSt1l1HNzc895pVIiIiJSj8rKSsTGxnp/j59Lqy4qdYd7LBYLiwoREVEr05hhGxxMS0RERKrFokJERESqxaJCREREqsWiQkRERKrFokJERESqxaJCREREqsWiQkRERKrFokJERESqxaJCREREqsWiQkRERKqlaFFZuHAhJEnyuXXr1k3JSERERKQiil/rp2fPntiyZYv3vk6neCQiIiJSCcVbgU6nQ1RUlNIxiIiISIUUH6OSkZGB6OhodO7cGXfccQdycnKUjkREREQqoegelauuugorVqxA165dUVBQgEWLFmHQoEFIS0tDYGBgvfUdDgccDof3fmVl5aWMSy2kIqcCthKb0jEuiH8HfwR1ClI6BhFRmycJIYTSIeqUl5cjLi4OS5cuxb333lvv8YULF2LRokX1lldUVMBisVyKiNTMKnIq8Gr3V+G2uZWOckF0/jrMPDKTZYWIqAkqKysRFBTUqN/fio9R+b3g4GAkJyfj+PHjDT4+f/58zJ0713u/srISsbGxlyoetQBbiQ1umxup76YioGuA0nEaxXrMikP3HIKtxMaiQkTUwlRVVKxWK06cOIG77rqrwceNRiOMRuMlTkWXQkDXAFh6c68YERH5UnQw7bx587B9+3ZkZWXhp59+wqRJk6DVanHbbbcpGYuIiIhUQtE9KqdOncJtt92G0tJShIeH49prr8XPP/+M8PBwJWMRERGRSihaVFatWqXk2xMREZHKKT6PChEREdHZsKgQERGRarGoEBERkWqxqBAREZFqsagQERGRarGoEBERkWqxqBAREZFqsagQERGRarGoEBERkWqxqBAREZFqsagQERGRarGoEBERkWqxqBAREZFqsagQERGRarGoEBERkWqxqBAREZFqsagQERGRarGoEBERkWqxqBAREZFqsagQERGRarGoEBERkWqxqBAREZFqsagQERGRarGoEBERkWqxqBAREZFqsagQERGRarGoEBERkWqxqBAREZFqsagQERGRarGoEBERkWqxqBAREZFqsagQERGRarGoEBERkWqxqBAREZFqsagQERGRarGoEBERkWqxqBAREZFqsagQERGRarGoEBERkWqxqBAREZFqsagQERGRarGoEBERkWqxqBAREZFqsagQERGRarGoEBERkWqxqBAREZFqsagQERGRarGoEBERkWqxqBAREZFqsagQERGRarGoEBERkWqxqBAREZFqsagQERGRarGoEBERkWqxqBAREZFqsagQERGRarGoEBERkWqxqBAREZFqsagQERGRarGoEBERkWqppqg888wzkCQJc+bMUToKERERqYQqisquXbvw5ptvolevXkpHISIiIhVRvKhYrVbccccdePvttxESEqJ0HCIiIlIRndIBZsyYgeuvvx4jRozAk08+ec51HQ4HHA6H935lZWWLZqvIqYCtxNai79Hc/Dv4I6hTkNIx2oWSIyVKR7gg/GwQUWukaFFZtWoV9u7di127djVq/SVLlmDRokUtnKpWRU4FXu3+Ktw29yV5v+ai89dh5pGZ/IXUghynHYAEfHbnZ0pHuSD8bBBRa6RYUcnNzcXs2bOxefNm+Pn5Neo58+fPx9y5c733KysrERsb2yL5bCU2uG1upL6bioCuAS3yHs3NesyKQ/ccgq3Exl9GLchV4QIEkLQ0CR2u6qB0nEbhZ4OIWivFisqePXtQVFSEPn36eJd5PB58//33ePXVV+FwOKDVan2eYzQaYTQaL2nOgK4BsPS2XNL3pNbBlGjiZ4OIqIUpVlSGDx+OQ4cO+SybPn06unXrhkceeaReSSEiIqL2R7GiEhgYiJSUFJ9lZrMZYWFh9ZYTERFR+6T46clEREREZ6P46cm/99133ykdgYiIiFSEe1SIiIhItVhUiIiISLVYVIiIiEi1WFSIiIhItVhUiIiISLVYVIiIiEi1WFSIiIhItVhUiIiISLVYVIiIiEi1WFSIiIhItVhUiIiISLVYVIiIiEi1WFSIiIhItVhUiIiISLVYVIiIiEi1WFSIiIhItVhUiIiISLVYVIiIiEi1dEoHIFITIQQ88MAt3HDDDQEB6T//AwANNJD1ssIpiYjaDxYVapccwoEauQY14j83uQZ2YYcb7vM/+Xog6FQQ8qV8lDnKYNQYYZbM8Nf4w1/yh07iPysioubCn6jULjiEA5VyJarkKlTKlXAIxznX10ADHXSQpNo9KUIICAjIkOGBB5K/BDfcqBJVqPJUoQQl3ucaJSMsGguCNEGwaCzQS/oW/dqIiNoyFhVqs+yyHaVyKc54zsAmbPUeN0mm2pum9v/9JD/oJT100EEjnX341qmPT+HIgiPosqILLP0sqJFrUC2qYZNtcMIJh3Cg2FOMYk8xAMBf8keIJgRh2jCYNKYW+3qJiNoiFhVqU9zCjWJPMUo9pagW1T6PmSUzLBoLLBoLAjWB0EraJr2HRtZAzpbhV+mHMG0Y8LuXcQs3rLIVFXIFKuQK1Iga2IQNNo8NeZ48+Ev+6KDtgFBtKIyS8WK+VCKidoFFhdoEm2zDac9plHpKIeO/g10tGgvCNGEI0YZckkMwOkmHYG0wgrXBAACncKJCrsAZzxlUyBWwCRty3DnIcecgWBOMSG0kgjRB3kNMRETki0WFWi0hBMrlchR4ClAlV3mX+0v+CNeGI0wbpvj4EINkQLg2HOHacLiEC2c8Z1DqKUWVqEK5XI5yuRx+kh8itZEI14Y3eS8PEVFbxaJCrY4QApVyJXLduT6Hd0I1oYjSRSFAClDlHgq9pEekLhKRukjYZTsKPYUo9hTDLuzIdmfjlPsUonRRiNJG8cwhIqL/4E9DalUq5Uqccp1Clajdg6KBBpHa2l/+rWnMh5/GD3GaOMToYlDsKUahpxB2YUeeOw+n3adZWIiI/oM/BalVcAgHsl3ZKJPLAAASJERqI9FR1xEGyaBwuqbTSlpE6aIQqY3EGfkM8tx5qBE13sISrYtGlDbqnGchERG1ZSwqpGqykFHgKUC+O987SDZCG4FoXXSr2oNyPpIkIUwbhlBNqE9hyXXnoshThFhdLEI1oao8pEVE1JJYVEi1yj3lyHJneSdnC5QCEa+Ph7/GX+FkLef3haVELkGuKxcO4cBx13EESoGI08fBrDErHZOI6JJhUSHVcQs3ctw53gnT9NCjk74TwjRh7WaPgiRJCNeGI1QTigJ3Qe2ZTaIKac40RGojEauL5RlCRNQusKiQqlR4KnDSdRJOOAEAkdpIxOhi2u2gUq2kRYw+BuG6cOS6clEql6LQU4gznjOI18cjVBuqdEQiohbVPn/6k+rIkowsVxYKPYUAaq+X01nXGRatReFk6mCUjOhi6IJwTzgy3ZlwCAcyXBkI8YQgXh/fqgcUExGdC4sKKU7TRYOs+Cw4PLVjUSK0Eeik68RDGw0I0gahl6YX8tx5KPAUoEwuQ6WjEvH6+HZ1aIyI2g8WFVJUtjkbgd8GwuHngA46JOoTvdPPU8M0kgax+liEacNw0nUS1aIaJ1wnUKYpQ7w+XvHZeImImhOLCinCLdzYbtuOtIg0SJDgX+2PrqFdeQjjAvhr/NHD0AP5nnzku/NxRj6DKkcVEvQJCNGGKB2PiKhZcBYpuuSq5Cp8UvUJ0pxpgADsL9jRKacTS0oTaCQNYnQx6GnoCT/JDy64kO5KR5YrC7KQz/8CREQqx6JCl1SBuwCrKlehyFMEk2TC4MLBsD9thwSOrbgYZo0ZqYZURGmjAACFnkL85vwNdtmucDIioovDQz90yRxxHMFW21Z44EGYNgw3mG9A9cnq8z+RGkUjaRCnj4NFY8FJ10nYhA2HnIeQoE+AAdxbRUStE4sKtThZyPip5ifscewBAHTWd8Zo82gYJAOqwaLS3EK0IUjVpOK48ziqRBVOuE4gqGMQ0HauOEBE7QiLCrUot3BjY/VGHHcdBwBc6XclrvG7hqfRtjCDZEB3Q3fkefKQ585DRXAFAr4KQLWWxZCIWhcWFWoxDtmBL6q/QJ47D1poMcI8At0M3ZSO1W5IkoQYXQwCpUBk1GQAfYAtni0wuoyI1ccqHY+IqFE4mJZahFW24pOqT5DnzoMBBkwMmMiSopAgbRDis+LhPuCGQ+vAWuta7LHvgRBC6WhEROfFokLNrtRTitWVq1Eql8IsmXFz4M38C15hBpcB1rFWxFXFQUBgR80OfFP9DZzCqXQ0IqJzYlGhZlXoLsSnVZ/CKqwI1gTjlsBbEK4LVzoWAYAd6F/SH0NNQ6GBBhmuDHxc+THKPeVKJyMiOisWFWo2Be4CfFb1GezCjkhtJG4JvIUXFVQZCRIu97sckwMnw1/yR6lcitVVq3HKdUrpaEREDWJRoWZxynUKa6vWwgknonXRmBQ4CSaNSelYdBbRumjcZrkNkdpI2IUda61rkeZIUzoWEVE9LCp00bJd2VhnXQcXXIjVxeLGgBthlDhph9oFaAJwc+DNSNInQYaMrbat+MH2A6feJyJVYVGhi5LpysQX1i/ggQfx+njcEHADr97biugkHcaax6K/X38AwF7HXnxV/RUH2RKRarCoUJNlu7LxlfUreOBBoj4R483joZM4NU9rI0kSrjFdg9Hm0dBCi5Ouk/ik6hNUyVVKRyMiYlGhpsl15Xr3pCTqEzHWPBZaSat0LLoI3QzdMDlwMkySCSWeEqyqXIVCd6HSsYionWNRoQuW58rDeut6eOBBgj6BJaUN6ajriFsDb0WYNgw2YcOaqjXIdGUqHYuI2jEWFbogBe4CfG79HG64EaeLwzjzOJaUNsaitWBK4BR00nWCCy58Yf2CZwQRkWJYVKjRit3FWFf137N7xgdwTEpbZZSMuCHgBnQ3dIeAwFbbVuys2clp94nokmNRoUYp85RhrfW/86RMCJjAktLGaSUtRvqP9J4R9Kv9V2y2bYZHeBRORkTtCYsKnZdVtmKddR1qRA3CteE8BbkdqTsjaLj/cEiQcMR5BOut6+EQDqWjEVE7waJC52SX7VhXtQ6VciWCNEGYGDCRk7m1QynGlNqCCj1y3Dm113OSrUrHIqJ2oElF5eTJk82dg1TIJVxYb13vvQrypIBJMGvMSscihcTr473XCCrxlNReIdtTqnQsImrjmlRUunTpgmHDhuHDDz+E3W5v7kykArKQ8bX1axR4CmCUjLgx8EYEaYOUjkUKi9TVXmwyRBMCq7Di46qPeUFDImpRTSoqe/fuRa9evTB37lxERUXh/vvvx6+//nrBr7Ns2TL06tULFosFFosF11xzDb755pumRKJmJITANts2ZLmzoIUWNwTcgA7aDkrHIpUI0gZhSuAUdNR2hFM4sc66DhnODKVjEVEb1aSicsUVV+Dll19Gfn4+3n33XRQUFODaa69FSkoKli5diuLi4ka9TkxMDJ555hns2bMHu3fvxnXXXYeJEyfit99+a0osaia77LuQ5qydN2OseSyiddEKJyK1MWlMuCnwJiTqE+GBB19Xf4399v1KxyKiNuiiBtPqdDrcdNNN+OSTT/Dss8/i+PHjmDdvHmJjY3H33XejoKDgnM+fMGECxo0bh6SkJCQnJ+Opp55CQEAAfv7554uJRRfhiOMIdtp3AgCGmoYi0ZCocCJSK52kwzjzOPQy9gIAbK/Zjh22HZxrhYia1UUVld27d+N//ud/0LFjRyxduhTz5s3DiRMnsHnzZuTn52PixImNfi2Px4NVq1ahuroa11xzzcXEoibKceVgi20LAKCvsS8u97tc4USkdhpJg6GmoRjgNwAAsMexBxttGznXChE1mybN2LV06VIsX74cx44dw7hx4/D+++9j3Lhx0Ghqe09CQgJWrFiB+Pj4877WoUOHcM0118ButyMgIABr165Fjx49GlzX4XDA4fjv/A2VlZVNiU8NKPWU4ivrV5AhI1mfjIGmgUpHohZQcqSkRV43BjHoH9AfuzrswjHnMZRXlGNA4QDoxcXNt+PfwR9BnTiIm+qryKmArcSmdIwL5na4oTO2rskylf532KSttWzZMtxzzz2YNm0aOnbs2OA6EREReOedd877Wl27dsX+/ftRUVGBTz/9FFOnTsX27dsbLCtLlizBokWLmhKZzqFGrsF663rvrLMjzSMhSZLSsagZOU47AAn47M7PWvR9dMN1MC83ozCgEJ9UfoLqP1VDFDb9UJDOX4eZR2ayrJCPipwKvNr9VbhtbqWjXDgJQCs7Oqr0v8MmFZWMjPOP8DcYDJg6dWqj1uvSpQsAoG/fvti1axdefvllvPnmm/XWnT9/PubOneu9X1lZidjY2AtITn/kER58Vf2Vd0K38WZev6ctclW4AAEkLU1Ch6ta9gyumuIa5PrlAr2ADgc6IDY3FkbnhU8SaD1mxaF7DsFWYmNRIR+2EhvcNjdS301FQNcApeM0WvGmYhxfdPyS/DtsLmr4d9ik30jLly9HQEAApkyZ4rP8k08+gc1ma1RBORtZln0O7/ye0WiE0chZUZuLEALf2r5FnjsPBhgwIWACTBqT0rGoBZkSTbD0trToe1hgQZAchKOuo3AYHMhJzEGyIRmBmsAWfV9qfwK6BrT457k5WY/VzuZ8Kf4dtiVNGky7ZMkSdOhQvw1GRETg6aefbvTrzJ8/H99//z2ysrJw6NAhzJ8/H9999x3uuOOOpsSiC7TPsQ+HnYchQcLYgLEI04YpHYnaCD+NH3oaesIsmeGGG0edR1HmKVM6FhG1Qk3ao5KTk4OEhIR6y+Pi4pCTk9Po1ykqKvKexhwUFIRevXph48aNGDlyZFNi0QXIdGViR80OAMAg0yDE6+OVDURtjl7So7uhO467jqNcLke6Kx0JIgERugiloxFRK9KkohIREYGDBw/WO6vnwIEDCAtr/F/ljRlsS82vxFOCDdYNEBBIMaTgCuMVSkeiNkoraZGkT0KWOwvFnmJkujPhFE5cpruMA7aJqFGadOjntttuw6xZs7Bt2zZ4PB54PB58++23mD17Nm699dbmzkjNyCbb8IX1CzjhRIwuBkP9h/IXBrUojaRBgi4Bl2kvAwDkefKQ6c7kxHBE1ChN2qOyePFiZGVlYfjw4dDpal9ClmXcfffdFzRGhS6tP57hM848DlpJq3QsagckSUKMPgZ6Se/du+ISLnTRd+FnkIjOqUlFxWAwYPXq1Vi8eDEOHDgAk8mE1NRUxMXFNXc+akY/1PyAfHc+DDDghoAbeIYPXXKRukjoJb133MoR5xF0NXSFXrq4ieGIqO26qAkzkpOTkZyc3FxZqAUdcRzBAccBAMBo82iEakMVTkTtVag2FN2l7kh3pqNaVOOw8zC66rvCT+OndDQiUqEmFRWPx4MVK1Zg69atKCoqgizLPo9/++23zRKOmkeRuwhbbVsBAP39+qOzobPCiai9C9QEooehB446j8Iu7LVlxdAVZo1Z6WhEpDJNKiqzZ8/GihUrcP311yMlJYWDMVWsRq7Bl9VfwgMP4vXxuNrvaqUjEQEATBoTehp74pjzGGzChsPOw0jSJyFYG6x0NCJSkSYVlVWrVuHjjz/GuHHjmjsPNSNZyPim+htUyVUI0gRhjP8YlkpSFYNkQHdDd2S4MlApV9bOtYIEhGvDlY5GRCrRpNOTf399HlKvn2p+Qq47FzroMD5gPIwaXn6A1Ecn6dBV3xVhmjAICJx0nUS+Ox+itV25jYhaRJOKykMPPYSXX36Z8yCoWIYzA3scewAAI80j0UHbOi6ARe2TRtIgUZ+IKG0UACDXnYvCyMIm/oQiorakSYd+duzYgW3btuGbb75Bz549odf7nlr42Wcteyl5OrcKfQW+ra4d0NzH2AfJBp6ZReonSRLi9HEwSAbkuHNQFloG/3f84ZE8SkcjIgU1qagEBwdj0qRJzZ2FmkMA8FPET3DBhRhdDAaaBiqdiOiCdNR1hEEy4ITjBAwTDdhu347J8mSevkzUTjWpqCxfvry5c1AzEBDwf8kfVYYqBEgBGGseC43EfefU+oRpw+DMdSI7JBsllhKsrlqNGwJuQIg2ROloRHSJNfm3mNvtxpYtW/Dmm2+iqqoKAJCfnw+r1dps4ejClIWUwXCTAZKQMDZgLPw1/kpHImoys82MqrFV8Hf5o1wux+qq1ch15Sodi4gusSYVlezsbKSmpmLixImYMWMGiouLAQDPPvss5s2b16wBqXGsshVFEUUAgF5neiFaF61wIqKLJx+RMSJ/BKK0UXAIB9ZZ1yHNkaZ0LCK6hJpUVGbPno1+/fqhrKwMJtN/rxczadIkbN26tdnCUeO4hRvHXcchNALOL51IruTgWWo7/GQ/TA6cjGR9MmTI2Grbiu9t30MW8vmfTEStXpPGqPzwww/46aefYDAYfJbHx8cjLy+vWYJR4wghcMJ1Ag7hgN6pR8XMCkjbOKkbtS06SYcx5jEItYfiZ/vP2OfYh3K5HGPMY2CQDOd/ASJqtZq0R0WWZXg89U8ZPHXqFAIDAy86FDXeac9plMvlkCDhsrzLICo5tw21TZIk4SrTVRhrHgsttMh0ZeLjqo9R4alQOhoRtaAmFZVRo0bhpZde8t6XJAlWqxULFizgtPqXUJVchRx3DgAgThcHk910nmcQtX7JhmTcHHgz/CV/lHpKsapqFbJd2UrHIqIW0qSi8uKLL+LHH39Ejx49YLfbcfvtt3sP+zz77LPNnZEa4BIuZDgzAABhmjBEaCMUTkR06UTponCr5VZEaiNhF3Z8bv0cu+27OVs2URvUpDEqMTExOHDgAFatWoWDBw/CarXi3nvvxR133OEzuJZaRt24FBdc8JP8kKBP4MUGqd0J1ATi5sCbsc22DYedh/FjzY8ochdhpHkk9JL+/C9ARK1Ck4oKAOh0Otx5553NmYUa6bTnNCrkCkiQkKRPglbSKh2JSBE6SYcR/iMQqYvEdtt2ZLgycKbqDMabxyNYG6x0PCJqBk0qKu+///45H7/77rubFIbOzypbkeuunfQqThfHSd2o3ZMkCb2MvdBB2wFfWb/yjlsZYx6DeH280vGI6CI1qajMnj3b577L5YLNZoPBYIC/vz+LSgvxzpcCgRBNCMelEP1OtC4at1luw1fWr3DacxqfWz9HP79+uMbvGl5KgqgVa9K/3rKyMp+b1WrFsWPHcO211+Lf//53c2ck1I5LyXJlwSEcMMCAzvrOHJdC9AcBmgBMDpyMVEMqAGC3fTfWWNegSq5SOBkRNVWz/ZmRlJSEZ555pt7eFmoeJZ4SlMqlAIAuhi7QSU0eXkTUpukkHa4zX4ex5rEwwIB8dz4+qvwIma5MpaMRURM06/5QnU6H/Pz85nxJAlAj1yDLnQUAiNHFIFDDSfWIzifZkIzbLLchQhsBu7BjvXU9dth2wCPqT1ZJROrVpD/L169f73NfCIGCggK8+uqrGDhwYLMEo1qykHHcdRwyZFg0FkRrebFBosYK1gZjSuAU7KjZgQOOA9jj2IN8dz7GmMfAorUoHY+IGqFJReXGG2/0uS9JEsLDw3HdddfhxRdfbI5c9B857hzYhA066JCoT+S4FKILpJN0GOo/FJfpLsMW2xYUeAqwsmolhpmGoauhK/9NEalck4qKLPOqpZdCmacMhZ5CAECiPpEXXyO6CEmGJERoI7ChegNOe05jo20jMl2ZGOY/DH4aP6XjEdFZ8Jw9lXIIB066TgIAorRRnLyKqBkEaYMwJXAKrva7GhIkpLvSsbJyJXJcOUpHI6KzaNIelblz5zZ63aVLlzblLdo1IQROOE/ADTfMkhmxulilIxG1GRpJg6tMVyFOH4eN1RtRLpdjrXUtUg2pGOg/EEbJqHREIvqdJhWVffv2Yd++fXC5XOjatSsAID09HVqtFn369PGux2O/TZPvyUeVqIIGGnTRd+FkVUQtIEoXhdstt2NHzQ4cdBzEIechZLoyMdw8nDPaEqlIk4rKhAkTEBgYiPfeew8hISEAaieBmz59OgYNGoSHHnqoWUO2J1bZilPuUwCAeH08j50TtSC9pMcw/2Hoou+CrbatqJAr8Ln1c3Q3dMdg02D++yNSgSb9qf7iiy9iyZIl3pICACEhIXjyySd51s9F8AgPTrhOAADCNGHooOmgcCKi9iFWH4s7LHegt7E3AOCI8wjer3wfRxxHIIRQOB1R+9akolJZWYni4uJ6y4uLi1FVxamqmyrHnQO7sMMAA+L18Tx0RnQJ6SU9BvsPxi2BtyBUE4oaUYNNtk1YY12DUk+p0vGI2q0mFZVJkyZh+vTp+Oyzz3Dq1CmcOnUKa9aswb333oubbrqpuTO2C2WeMhR5igAAnfWdOUU+kUI66jridsvtGGgaCB10yHPn4aPKj/BjzY9wCqfS8YjanSb9NnzjjTcwb9483H777XC5XLUvpNPh3nvvxfPPP9+sAdsDl3D5nIocpA1SOBFR+6aVtOjn1w/J+mRsr9mOk66T2G3fjcOOwxhgGoDuhu4c5E50iTSpqPj7++P111/H888/jxMnasdUJCYmwmw2N2u49kAIgZOuk3DDDZNk4qnIRCpi0VowIWACTjpP4vua71EhV2CLbQsOOA5gsGkwYvQxSkckavMu6k+CgoICFBQUICkpCWazmYPOmqDYU4xyuRwSJCTqE/lXGpEKdTZ0xp2WOzHINAgGyYBiTzHWWNfgC+sXKPGUKB2PqE1r0m/F0tJSDB8+HMnJyRg3bhwKCgoAAPfeey9PTb4AdtmObHc2ACBWFwuzhnukiNRKJ+nQx68PplqmItWYCgkSTrpOYmXlSmyo3oByT7nSEYnapCYVlQcffBB6vR45OTnw9/f3Lv/Tn/6EDRs2NFu4tkwI4b0qcqAmEFHaKKUjEVEj+Gv8cZ3/dbjTcieS9EkAgGPOY3i/8n1srd6KCk+FwgmJ2pYmjVHZtGkTNm7ciJgY3+OzSUlJyM7ObpZgbV2eJw/VohpaaHlVZKJWKFQbinEB41DkLsLOmp3IcmchzZmG35y/oauhK/r59UOYNkzpmEStXpOKSnV1tc+elDpnzpyB0cjrZJyPVbYiz50HoHb2WV5bhKj1itBFYGLgROS78/Frza/IdmfjqPMojjqPorO+M/r59UOUNop/jBA1UZMO/QwaNAjvv/++974kSZBlGc899xyGDRvWbOHaot/PPhuqCUWYhn9xEbUF0bpo3Bh4I24NvBVd9F0AACddJ/Fx1cdYXbUaRx1H4RZuhVMStT5N2qPy3HPPYfjw4di9ezecTif+/ve/47fffsOZM2fw448/NnfGNuX3s88m6BP4VxZRGxOpi8T1AdfjjOcM9tj34JjzGAo9hdho24gfan5AqjEVPY09EagJVDoqUavQpKKSkpKC9PR0vPrqqwgMDITVasVNN92EGTNmoGPHjs2dsc3g7LNE7UeoNhQjzSMx0DQQaY40HHQcRLWoxi/2X/CL/RfE6eLQ09gTCfoE/iwgOocL/tfhcrkwZswYvPHGG/jf//3flsjUJnH2WaL2yV/jj/6m/ujr1xcnXCdw0HEQee48ZLuzke3Ohp/kh2RDMpINyYjWRnMvK9EfXHBR0ev1OHjwYEtkabM4+ywRaSWtt5CUe8px2HkYRxxHYBVWHHQcxEHHQQRIAUgyJCHZkIxIbSRLCxGaeOjnzjvvxDvvvINnnnmmufO0SZx9loh+L1gbjAGmAbja72rkuHOQ7kzHCecJWIUV+xz7sM+xD2bJjAR9AhL0Ceik78TDQ9RuNemT73a78e6772LLli3o27dvvWv8LF26tFnCtQW/n302RhfD2WeJyEsjaRCvj0e8Ph5ufzeyXdlId6Yj05WJalGNNGca0pxp0EGHGF0MYvWxiNXFooO2A/e2ULtxQUXl5MmTiI+PR1paGvr06QMASE9P91mH/3j+SwiBE64T3tlnO2o50JiIGqaTdEg0JCLRkAi3cOOU+xQyXZk46TwJq7Aiy52FLHcWAMAkmRCji0G0LhpRuiiEa8OhlbTKfgFELeSCikpSUhIKCgqwbds2ALVT5r/yyiuIjIxskXCtXb4nH1Zh5eyzRHRBdJLOu6dlqGkoSjwlyHXnIseVg3x3PmpEDTJcGchwZQAAtNAiUheJKG0UOmg7oIO2A0K1oSwv1CZcUFH549WRv/nmG1RXVzdroLbCKltxyn0KAGefJaKmkyQJ4bpwhOvC0cevDzzCg0JPIU65TqHAXYDTntOwCzvy3fnId+d7n6eBBqHaUIRrw73FJVgTjEBNIAsMtSoXNTrrj8WFanH2WSJqKVpJi2hdNKJ10QBqfw6Xy+XId+ej2FOMYk8xStwlcMKJEk8JSjwlPs+XIMGisSBYE4xgbTCCNEEI1AQiQBOAQE0g/CV/7v0lVbmgoiJJUr0PMD/Q9dXNPquHnrPPElGLkiQJIdoQhGhDvMuEEKiSq1DiKaktLp4SlMllqPBUwA03KuQKVMgV3oH+v6eBBmaNGQFSAAI0AfDX+MMkmWDSmOAv1f533TKjZOTPN2pxF3zoZ9q0ad4LD9rtdjzwwAP1zvr57LPPmi9hK/P72WcT9Yk8pZCILjlJkmDRWmDRWtAZnb3LhRCoFtUo95SjXC5HuaccFXIFrLIVVtmKalENGTKq5CpUoQrwnPt9NNB4S4yf5Of9b5NkOutyHnaiC3VBv0WnTp3qc//OO+9s1jCtnUu4kOnKBMDZZ4lIfSRJ8u4piUFMvcdlIaNaVHuLi1W2okbUoEaugU3YfP7fCSdk1K5f7Wn8WEUDDN7S4qfx8yk1ddnqbvxDj4ALLCrLly9vqRytnhACma5MuODi7LNE1CppJA0CpcBGXTDRLdzeEuPz///5b7uw+yy3CzsEBJxwwik7UYGK8+6x8ZP8vKUlWFM7niZYGwynznmRIyypNeG3upkUe4pRJpdx9lkiahd0kq7RpQao/WPOIRw+Zabuv+2yHTZhQ7VcuzenSq6CG27YhR12j73egGDEAkH5QTguH4fZaYZJMsGsMcNf8oef5MdxM20Mi0oz4OyzRETnJkkS/CQ/+MEPIQg557pCCDiFE1WiyltcKjwV3nE15e5yeHQeuOCqXYZy794ZCRL8JX/4a/xhlsy1A4J5JlOrpmhRWbJkCT777DMcPXoUJpMJAwYMwLPPPouuXbsqGeuC+Mw+K3H2WSKiiyVJEoySEUYY0UHbod7j+Xvz8a8J/0LqV6nQJGq8e2NqRI3PuJliFAOoHfQboAlAoBQIi8aCAE0A93q3IooWle3bt2PGjBm48sor4Xa78Y9//AOjRo3C4cOH651JpFY+s88aOPssEVFLkyBB5AuYbWZYdBbvciEE7KL2MJJNtsEqagcEy5BRKVeiEpXI8+RBAw0CNbWlJUgTxD0uKqdoUdmwYYPP/RUrViAiIgJ79uzB4MGDFUrVeJx9lohIPSRJqj2DCCaEaWsn2hRCoEbU1J5yLVehUq6ECy7vXDK5yIUBBoRoQxCsCYZFY+HeFpVR1RiViooKAEBoaGiDjzscDjgcDu/9ysrKS5KrIWqefbbkSMn5V1KJ1pSVlNHaPiNuhxs6o6p+tJ5Xa8t8IZ8JSfrvmJVIRHqLS6VciQq5ApVyJZxwotBTiEJPITTQIEQTgjBtGII0QSwtKqCaT6Ysy5gzZw4GDhyIlJSUBtdZsmQJFi1adImTNUyNs886TjsACfjsztY34Z7D6jj/StSutNrPswSgtV1dpDVmRtN+bvy+uEQhCrKQUSHXDtQt85TBBRdK5VKUyqXQQYcQbQg6aDogUBOoip/z7ZFqisqMGTOQlpaGHTt2nHWd+fPnY+7cud77lZWViI299POVqHX2WVeFCxBA0tIkdLiq/gA0NSreVIzji47DbXcrHYVUpjV/npm5ZTXnzw2NpPFegiBeFw+rsOKM5wxKPaVwweW9fpJRMiJCG4EO2g4wSIZm+CqosVTxG3bmzJn48ssv8f333yMmpv5siXWMRqN3+n6ltIbZZ02JJlh6W86/ogpYj1mVjkAq1xo/z8zcslrq54YkSd65YTrpOqFSrqzdu+IphUM4kOvORa47FyGaEERoIxCkCeJelktA0aIihMDf/vY3rF27Ft999x0SEhKUjHNenH2WiKh9kCQJQdogBGmDEKeLwxnPGRR5imAVVpTJZSiTy2CSTIjSRqGDtgPHsrQgRYvKjBkz8NFHH+Hzzz9HYGAgTp8+DQAICgqCyWRSMlqDOPssEVH7o5W0CNeFI1wXDptsQ5GnCMWeYtSIGmS6M5HrzkWENgJRuijoJb3ScdscRX/TLlu2DBUVFRg6dCg6duzova1evVrJWA3i7LNEROSv8Ue8Ph69jb3RSdcJBhjghhv5nnzsd+xHtisbTuFUOmabovihn9aAs88SEdHv6SQdOuo6IkobhTK5DPnufFSLapz2nEahpxAR2gh01HXk/FrNQBWDadWOs88SEVFDJElCqDYUIZoQVMgVyHPnwSqsKPQUoshThChtFKJ10ao5O7Q14pY7jxq/Gs4+S0RE5yRJEoK1wQjSBKFSrkSeOw9VogoFngIUeYrQUdcRQts6jiKoDYvKufgD+dH5ANQ3+ywREalP3dlCFo2ldop+dy5swoZT7lPQjNBAf6seojXOrqcgFpVzMC0ywWl0qmr2WSIiUr/f72EplUtxyn0KDpMD5tfNKKwshEWuvYoznR/Prz2LAlMBjPfWHuZR0+yzRETUekiShA7aDuhl6IWgtCCIKgGnxYnfnL/hhPMEzxBqBBaVBthkG3Z12AUACC0NVeXss0RE1HpoJA0sxy2o7F8Jc2Ht9BYlcgkOOg6i0F3Yas6CVQKLSgP2O/bDrrPDc8SD8OJwpeMQEVEbIQoFwtLD0NPQE2bJDA88yHJn4bDzMGyyTel4qsSi0oCr/a5GypkUVN9XDY3gJiIiouYVoAlAT0NPxOnioIEGVmFFmjMNua5cyEJWOp6q8LdwAzSSBj0qekD+jR8WIiJqGZIkIUoXhV7GXgjRhEBAIN+Tj0POQ7DKvGBrHRYVIiIiBRklI5INyUjSJ0EPPezCjt+cv3Hvyn+wqBAREalAqDYUqcZU75xd+Z58pDnTUC1XK5xMWSwqREREKqGX9Ohi6IIkfRJ00KFG1OA3528ocBe02zODWFSIiIhUJlQb6jN2Jcedg6Ouo+1y3hUWFSIiIhXSS3ok6ZOQoEuABhpUypU45DiEMk+Z0tEuKRYVIiIilZIkCRG6CKQYUuAv+cMNN9Jd6ch2ZbebgbYsKkRERCpn0pjQ09ATUdooAMBpz2kccR6BQzgUTtbyWFSIiIhaAY2kQZw+Dkn6JGihrZ0kzpGGCk+F0tFaFIsKERFRKxKqDfU5FHTUdRR57rw2e1YQiwoREVEr46fxQ09DT4Rra69Hd8p9CumudLiFW+FkzY9FhYiIqBXSSBp01ndGZ11nSJBQLpfjkONQm5sgjkWFiIioFQvXhaOnoSeMkhFOOHHYeRhnPGeUjtVsWFSIiIhaObPGjBRDCiwaC2TIyHBl4JT7VJsYt8KiQkRE1AboJB266bt5T2HOc+fhuOs4PMKjcLKLw6JCRETURkiShDh9HBJ0CZAg4Yx8Boedh1v1fCssKkRERG1MhC4C3Q3doYMONmFDmiMNVXKV0rGahEWFiIioDQrUBCLF+N/5Vo44j6DUU6p0rAvGokJERNRGGSUjehh6eK/CfNx1HPnu/FY1yJZFhYiIqA3TSlok6ZO8g2xz3bnIcme1mrLCokJERNTG1Q2yjdPFAQCKPEU45jrWKs4IYlEhIiJqJ6J0UUjSJ0EDDSrkChx2HoZTOJWOdU4sKkRERO1IqDbU54yg3xy/wSbblI51ViwqRERE7UyAJgA9DT3hJ/l5p92vlCuVjtUgFhUiIqJ2qO4KzIFSIDzw4KjzqCqvEcSiQkRE1E7pJB26Gbp5T1/OcGWgyF2kdCwfLCpERETtmEbSIEmfhHBtOAAg052JPHeeak5f1ikdgIiIiJQlSRISdAnQQ498Tz5OuU/BJVwIQYjS0VhUiIiIqLasxOpjoZf0yHZno9BTCNtlNsCgbC4e+iEiIiKvKF0Uuui7QIKEKksVzKvMEFDuMBCLChEREfkI04ahq74rNB4NXOtdkCAploVFhYiIiOoJ0gYh8UQinCuUnbmWRYWIiIgapPMoP5SVRYWIiIhUi0WFiIiIVItFhYiIiFSLRYWIiIhUi0WFiIiIVItFhYiIiFSLRYWIiIhUi0WFiIiIVItFhYiIiFSLRYWIiIhUi0WFiIiIVItFhYiIiFSLRYWIiIhUi0WFiIiIVItFhYiIiFSLRYWIiIhUi0WFiIiIVItFhYiIiFRL0aLy/fffY8KECYiOjoYkSVi3bp2ScYiIiEhlFC0q1dXVuPzyy/Haa68pGYOIiIhUSqfkm48dOxZjx45VMgIRERGpmKJF5UI5HA44HA7v/crKSgXTEBERUUtrVYNplyxZgqCgIO8tNjZW6UhERETUglpVUZk/fz4qKiq8t9zcXKUjERERUQtqVYd+jEYjjEaj0jGIiIjoEmlVe1SIiIiofVF0j4rVasXx48e99zMzM7F//36EhoaiU6dOCiYjIiIiNVC0qOzevRvDhg3z3p87dy4AYOrUqVixYoVCqYiIiEgtFC0qQ4cOhRBCyQhERESkYhyjQkRERKrFokJERESqxaJCREREqsWiQkRERKrFokJERESqxaJCREREqsWiQkRERKrFokJERESqxaJCREREqsWiQkRERKrFokJERESqxaJCREREqsWiQkRERKrFokJERESqxaJCREREqsWiQkRERKrFokJERESqxaJCREREqsWiQkRERKrFokJERESqxaJCREREqsWiQkRERKrFokJERESqxaJCREREqsWiQkRERKrFokJERESqxaJCREREqsWiQkRERKrFokJERESqxaJCREREqsWiQkRERKrFokJERESqxaJCREREqsWiQkRERKrFokJERESqxaJCREREqsWiQkRERKrFokJERESqxaJCREREqsWiQkRERKrFokJERESqxaJCREREqsWiQkRERKrFokJERESqxaJCREREqsWiQkRERKrFokJERESqxaJCREREqsWiQkRERKrFokJERESqxaJCREREqsWiQkRERKrFokJERESqxaJCREREqsWiQkRERKrFokJERESqxaJCREREqsWiQkRERKrFokJERESqpYqi8tprryE+Ph5+fn646qqr8OuvvyodiYiIiFRA8aKyevVqzJ07FwsWLMDevXtx+eWXY/To0SgqKlI6GhERESlM8aKydOlS/OUvf8H06dPRo0cPvPHGG/D398e7776rdDQiIiJSmKJFxel0Ys+ePRgxYoR3mUajwYgRI7Bz504FkxEREZEa6JR885KSEng8HkRGRvosj4yMxNGjR+ut73A44HA4vPcrKioAAJWVlc2ercpaBTvsKNpfhOrq6mZ//ZZQml4KO+wo/a0UMCmdpnGY+dJg5kuDmS+N1pgZaJ25qzOqYYcdVdYqmCvNzfa6db+3hRDnX1koKC8vTwAQP/30k8/yhx9+WPTv37/e+gsWLBAAeOONN9544423NnDLzc09b1dQdI9Khw4doNVqUVhY6LO8sLAQUVFR9dafP38+5s6d670vyzLOnDmDsLAwSJLU4nnVoLKyErGxscjNzYXFYlE6TrvD7a8sbn9lcfsrqy1tfyEEqqqqEB0dfd51FS0qBoMBffv2xdatW3HjjTcCqC0fW7duxcyZM+utbzQaYTQafZYFBwdfgqTqY7FYWv0HtTXj9lcWt7+yuP2V1Va2f1BQUKPWU7SoAMDcuXMxdepU9OvXD/3798dLL72E6upqTJ8+XeloREREpDDFi8qf/vQnFBcX4/HHH8fp06dxxRVXYMOGDfUG2BIREVH7o3hRAYCZM2c2eKiH6jMajViwYEG9Q2B0aXD7K4vbX1nc/spqr9tfEqIx5wYRERERXXqKz0xLREREdDYsKkRERKRaLCpERESkWiwqREREpFosKq3EkiVLcOWVVyIwMBARERG48cYbcezYMaVjtUvPPPMMJEnCnDlzlI7SruTl5eHOO+9EWFgYTCYTUlNTsXv3bqVjtXkejwePPfYYEhISYDKZkJiYiMWLFzfuGi3UJN9//z0mTJiA6OhoSJKEdevW+TwuhMDjjz+Ojh07wmQyYcSIEcjIyFAm7CXAotJKbN++HTNmzMDPP/+MzZs3w+VyYdSoUa3mgoltxa5du/Dmm2+iV69eSkdpV8rKyjBw4EDo9Xp88803OHz4MF588UWEhIQoHa3Ne/bZZ7Fs2TK8+uqrOHLkCJ599lk899xz+H//7/8pHa3Nqq6uxuWXX47XXnutwcefe+45vPLKK3jjjTfwyy+/wGw2Y/To0bDb7Zc46aXB05NbqeLiYkRERGD79u0YPHiw0nHaBavVij59+uD111/Hk08+iSuuuAIvvfSS0rHahUcffRQ//vgjfvjhB6WjtDvjx49HZGQk3nnnHe+yyZMnw2Qy4cMPP1QwWfsgSRLWrl3rvcyMEALR0dF46KGHMG/ePABARUUFIiMjsWLFCtx6660Kpm0Z3KPSSlVUVAAAQkNDFU7SfsyYMQPXX389RowYoXSUdmf9+vXo168fpkyZgoiICPTu3Rtvv/220rHahQEDBmDr1q1IT08HABw4cAA7duzA2LFjFU7WPmVmZuL06dM+P4eCgoJw1VVXYefOnQomazmqmJmWLowsy5gzZw4GDhyIlJQUpeO0C6tWrcLevXuxa9cupaO0SydPnsSyZcswd+5c/OMf/8CuXbswa9YsGAwGTJ06Vel4bdqjjz6KyspKdOvWDVqtFh6PB0899RTuuOMOpaO1S6dPnwaAepeZiYyM9D7W1rCotEIzZsxAWloaduzYoXSUdiE3NxezZ8/G5s2b4efnp3ScdkmWZfTr1w9PP/00AKB3795IS0vDG2+8waLSwj7++GOsXLkSH330EXr27In9+/djzpw5iI6O5ranS4KHflqZmTNn4ssvv8S2bdsQExOjdJx2Yc+ePSgqKkKfPn2g0+mg0+mwfft2vPLKK9DpdPB4PEpHbPM6duyIHj16+Czr3r07cnJyFErUfjz88MN49NFHceuttyI1NRV33XUXHnzwQSxZskTpaO1SVFQUAKCwsNBneWFhofextoZFpZUQQmDmzJlYu3Ytvv32WyQkJCgdqd0YPnw4Dh06hP3793tv/fr1wx133IH9+/dDq9UqHbHNGzhwYL3T8dPT0xEXF6dQovbDZrNBo/H9VaHVaiHLskKJ2reEhARERUVh69at3mWVlZX45ZdfcM011yiYrOXw0E8rMWPGDHz00Uf4/PPPERgY6D0WGRQUBJPJpHC6ti0wMLDeWCCz2YywsDCOEbpEHnzwQQwYMABPP/00brnlFvz6669466238NZbbykdrc2bMGECnnrqKXTq1Ak9e/bEvn37sHTpUtxzzz1KR2uzrFYrjh8/7r2fmZmJ/fv3IzQ0FJ06dcKcOXPw5JNPIikpCQkJCXjssccQHR3tPTOozRHUKgBo8LZ8+XKlo7VLQ4YMEbNnz1Y6RrvyxRdfiJSUFGE0GkW3bt3EW2+9pXSkdqGyslLMnj1bdOrUSfj5+YnOnTuL//3f/xUOh0PpaG3Wtm3bGvx5P3XqVCGEELIsi8cee0xERkYKo9Eohg8fLo4dO6Zs6BbEeVSIiIhItThGhYiIiFSLRYWIiIhUi0WFiIiIVItFhYiIiFSLRYWIiIhUi0WFiIiIVItFhYiIiFSLRYWI2o2srCxIkoT9+/crHYWIGolFhaiVEkJgxIgRGD16dL3HXn/9dQQHB+PUqVOXNFNdEWjo9vPPP1/SLA2JjY1FQUEBL31A1IpwZlqiViw3Nxepqal49tlncf/99wOovS5Iamoqli1bhrvuuqtZ38/lckGv15/18aysLCQkJGDLli3o2bOnz2NhYWHnfG5LczqdMBgMir0/ETUN96gQtWKxsbF4+eWXMW/ePGRmZkIIgXvvvRejRo1C7969MXbsWAQEBCAyMhJ33XUXSkpKvM/dsGEDrr32WgQHByMsLAzjx4/HiRMnvI/X7R1ZvXo1hgwZAj8/P6xcuRLZ2dmYMGECQkJCYDab0bNnT3z99dc+ucLCwhAVFeVz0+v1PnuB6v5GOnPmDGJiYvD4448DAL777jtIkoSvvvoKvXr1gp+fH66++mqkpaX5vMeOHTswaNAgmEwmxMbGYtasWaiurvY+Hh8fj8WLF+Puu++GxWLBfffd1+Chn7S0tHNup6FDh2LWrFn4+9//jtDQUERFRWHhwoU+WcrLy3H//fcjMjISfn5+SElJwZdfftnorER0DspdZoiImsvEiRPF0KFDxSuvvCLCw8NFUVGRCA8PF/PnzxdHjhwRe/fuFSNHjhTDhg3zPufTTz8Va9asERkZGWLfvn1iwoQJIjU1VXg8HiGEEJmZmQKAiI+PF2vWrBEnT54U+fn54vrrrxcjR44UBw8eFCdOnBBffPGF2L59u89z9u3bd9asp06dEiEhIeKll14SQggxZcoU0b9/f+FyuYQQ/70gW/fu3cWmTZvEwYMHxfjx40V8fLxwOp1CCCGOHz8uzGaz+Oc//ynS09PFjz/+KHr37i2mTZvmfZ+4uDhhsVjECy+8II4fPy6OHz9eL19ZWdl5t9OQIUOExWIRCxcuFOnp6eK9994TkiSJTZs2CSGE8Hg84uqrrxY9e/YUmzZt8m6Tr7/+utFZiejsWFSI2oDCwkLRoUMHodFoxNq1a8XixYvFqFGjfNbJzc0VAM56ldXi4mIBQBw6dEgI8d/SUVco6qSmpoqFCxc2+Bp1zzGZTMJsNvvcfu/jjz8Wfn5+4tFHHxVms1mkp6d7H6srKqtWrfIuKy0tFSaTSaxevVoIIcS9994r7rvvPp/X/OGHH4RGoxE1NTVCiNqicuONNzaYr66oNGY7DRkyRFx77bU+61x55ZXikUceEUIIsXHjRqHRaM66XRuTlYjOTqfQjhwiakYRERG4//77sW7dOtx4441YuXIltm3bhoCAgHrrnjhxAsnJycjIyMDjjz+OX375BSUlJZBlGQCQk5PjM9i0X79+Ps+fNWsW/vrXv2LTpk0YMWIEJk+ejF69evmss3r1anTv3v2seadMmYK1a9fimWeewbJly5CUlFRvnWuuucb736GhoejatSuOHDkCADhw4AAOHjyIlStXetcRQkCWZWRmZnrf+4/Z/+jAgQPn3U4A6n19HTt2RFFREQBg//79iImJ8a7b0Hs0JisRNYxFhaiN0Ol00Olq/0lbrVZMmDABzz77bL31OnbsCACYMGEC4uLi8PbbbyM6OhqyLCMlJQVOp9NnfbPZ7HP/z3/+M0aPHo2vvvoKmzZtwpIlS/Diiy/ib3/7m3ed2NhYdOnS5axZbTYb9uzZA61Wi4yMjAv+Wq1WK+6//37MmjWr3mOdOnU6a/aGXud82wlAvUHAkiR5i53JZGqWrETUMBYVojaoT58+WLNmDeLj473l5fdKS0tx7NgxvP322xg0aBCA2gGfjRUbG4sHHngADzzwAObPn4+3337bp6icz0MPPQSNRoNvvvkG48aNw/XXX4/rrrvOZ52ff/7Z+4u8rKwM6enp3r0Pffr0weHDh89ZhhrjfNupMXr16oVTp04hPT29wb0qzZWVqL3iWT9EbdCMGTNw5swZ3Hbbbdi1axdOnDiBjRs3Yvr06fB4PAgJCUFYWBjeeustHD9+HN9++y3mzp3bqNeeM2cONm7ciMzMTOzduxfbtm2rd/iitLQUp0+f9rnZ7XYAwFdffYV3330XK1euxMiRI/Hwww9j6tSpKCsr83mNJ554Alu3bkVaWhqmTZuGDh064MYbbwQAPPLII/jpp58wc+ZM7N+/HxkZGfj8888xc+bMZt1OjTFkyBAMHjwYkydPxubNm5GZmYlvvvkGGzZsaNasRO0ViwpRGxQdHY0ff/wRHo8Ho0aNQmpqKubMmYPg4GBoNBpoNBqsWrUKe/bsQUpKCh588EE8//zzjXptj8eDGTNmoHv37hgzZgySk5Px+uuv+6wzYsQIdOzY0ee2bt06FBcX495778XChQvRp08fAMCiRYsQGRmJBx54wOc1nnnmGcyePRt9+/bF6dOn8cUXX3jnQenVqxe2b9+O9PR0DBo0CL1798bjjz+O6OjoZt1OjbVmzRpceeWVuO2229CjRw/8/e9/9xad5spK1F5xwjciUpXvvvsOw4YNQ1lZGYKDg5WOQ0QK4x4VIiIiUi0WFSIiIlItHvohIiIi1eIeFSIiIlItFhUiIiJSLRYVIiIiUi0WFSIiIlItFhUiIiJSLRYVIiIiUi0WFSIiIlItFhUiIiJSLRYVIiIiUq3/DzKeyD+6yHLUAAAAAElFTkSuQmCC\n"
          },
          "metadata": {}
        }
>>>>>>> fe574affc3ded318263bbbc35e20b4a1cbf12fd1
      ]
    },
    {
      "cell_type": "code",
<<<<<<< HEAD
      "execution_count": 9,
=======
      "source": [
        "print(\"Skewness for Salary:\", df['Salary'].skew())\n",
        "plt.figure()\n",
        "plt.xlabel('Salary')\n",
        "plt.ylabel('Frequency')\n",
        "sns.histplot(df['Salary'], bins=10, color='lightgreen', edgecolor='purple', kde=True)"
      ],
>>>>>>> fe574affc3ded318263bbbc35e20b4a1cbf12fd1
      "metadata": {
        "colab": {
          "base_uri": "https://localhost:8080/",
          "height": 485
        },
        "id": "Y_3dZLmzMzwQ",
        "outputId": "9adfac49-919c-4710-f495-35fc4569edd1"
      },
<<<<<<< HEAD
      "outputs": [
        {
          "name": "stdout",
          "output_type": "stream",
=======
      "execution_count": 252,
      "outputs": [
        {
          "output_type": "stream",
          "name": "stdout",
>>>>>>> fe574affc3ded318263bbbc35e20b4a1cbf12fd1
          "text": [
            "Skewness for Salary: 0.35411967922959153\n"
          ]
        },
        {
<<<<<<< HEAD
=======
          "output_type": "execute_result",
>>>>>>> fe574affc3ded318263bbbc35e20b4a1cbf12fd1
          "data": {
            "text/plain": [
              "<Axes: xlabel='Salary', ylabel='Frequency'>"
            ]
          },
<<<<<<< HEAD
          "execution_count": 9,
          "metadata": {},
          "output_type": "execute_result"
        },
        {
          "data": {
            "image/png": "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",
            "text/plain": [
              "<Figure size 640x480 with 1 Axes>"
            ]
          },
          "metadata": {},
          "output_type": "display_data"
        }
      ],
      "source": [
        "print(\"Skewness for Salary:\", df['Salary'].skew())\n",
        "plt.figure()\n",
        "plt.xlabel('Salary')\n",
        "plt.ylabel('Frequency')\n",
        "sns.histplot(df['Salary'], bins=10, color='lightgreen', edgecolor='purple', kde=True)"
=======
          "metadata": {},
          "execution_count": 252
        },
        {
          "output_type": "display_data",
          "data": {
            "text/plain": [
              "<Figure size 640x480 with 1 Axes>"
            ],
            "image/png": "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\n"
          },
          "metadata": {}
        }
>>>>>>> fe574affc3ded318263bbbc35e20b4a1cbf12fd1
      ]
    },
    {
      "cell_type": "code",
<<<<<<< HEAD
      "execution_count": 10,
=======
      "source": [
        "corr = df[['YearsExperience', 'Salary']].corr()\n",
        "print(\"\\nCorrelation Matrix:\")\n",
        "print(corr)\n",
        "plt.figure(figsize=(5,4))\n",
        "sns.heatmap(corr, annot=True, cmap='cool', fmt=\".2f\", square=True)\n",
        "plt.title(\"Correlation Heatmap: YearsExperience vs Salary\")\n",
        "plt.show()"
      ],
>>>>>>> fe574affc3ded318263bbbc35e20b4a1cbf12fd1
      "metadata": {
        "colab": {
          "base_uri": "https://localhost:8080/",
          "height": 481
        },
        "id": "_xaG_6UOnw1j",
        "outputId": "4b150d1a-6969-4102-ed32-00b8ad3ef26a"
      },
<<<<<<< HEAD
      "outputs": [
        {
          "name": "stdout",
          "output_type": "stream",
=======
      "execution_count": 260,
      "outputs": [
        {
          "output_type": "stream",
          "name": "stdout",
>>>>>>> fe574affc3ded318263bbbc35e20b4a1cbf12fd1
          "text": [
            "\n",
            "Correlation Matrix:\n",
            "                 YearsExperience    Salary\n",
            "YearsExperience         1.000000  0.978242\n",
            "Salary                  0.978242  1.000000\n"
          ]
        },
        {
<<<<<<< HEAD
          "data": {
            "image/png": "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",
            "text/plain": [
              "<Figure size 500x400 with 2 Axes>"
            ]
          },
          "metadata": {},
          "output_type": "display_data"
        }
      ],
      "source": [
        "corr = df[['YearsExperience', 'Salary']].corr()\n",
        "print(\"\\nCorrelation Matrix:\")\n",
        "print(corr)\n",
        "plt.figure(figsize=(5,4))\n",
        "sns.heatmap(corr, annot=True, cmap='cool', fmt=\".2f\", square=True)\n",
        "plt.title(\"Correlation Heatmap: YearsExperience vs Salary\")\n",
        "plt.show()"
=======
          "output_type": "display_data",
          "data": {
            "text/plain": [
              "<Figure size 500x400 with 2 Axes>"
            ],
            "image/png": "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\n"
          },
          "metadata": {}
        }
>>>>>>> fe574affc3ded318263bbbc35e20b4a1cbf12fd1
      ]
    },
    {
      "cell_type": "code",
<<<<<<< HEAD
      "execution_count": 11,
      "metadata": {
        "colab": {
          "base_uri": "https://localhost:8080/",
          "height": 396
        },
        "id": "wzi7D42_NU0W",
        "outputId": "56c2ae10-6071-44a8-c866-7ab3d843e797"
      },
      "outputs": [
        {
          "data": {
            "image/png": "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",
            "text/plain": [
              "<Figure size 1000x400 with 2 Axes>"
            ]
          },
          "metadata": {},
          "output_type": "display_data"
        }
      ],
=======
>>>>>>> fe574affc3ded318263bbbc35e20b4a1cbf12fd1
      "source": [
        "plt.figure(figsize=(10,4))\n",
        "plt.subplot(1,2,1)\n",
        "sns.boxplot(x=df['YearsExperience'], color='skyblue')\n",
        "plt.title('YearsExperience Outliers')\n",
        "plt.subplot(1,2,2)\n",
        "sns.boxplot(x=df['Salary'], color='pink')\n",
        "plt.title('Salary Outliers')\n",
        "plt.tight_layout()\n",
        "plt.show()"
<<<<<<< HEAD
=======
      ],
      "metadata": {
        "colab": {
          "base_uri": "https://localhost:8080/",
          "height": 396
        },
        "id": "wzi7D42_NU0W",
        "outputId": "56c2ae10-6071-44a8-c866-7ab3d843e797"
      },
      "execution_count": 253,
      "outputs": [
        {
          "output_type": "display_data",
          "data": {
            "text/plain": [
              "<Figure size 1000x400 with 2 Axes>"
            ],
            "image/png": "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\n"
          },
          "metadata": {}
        }
>>>>>>> fe574affc3ded318263bbbc35e20b4a1cbf12fd1
      ]
    },
    {
      "cell_type": "code",
<<<<<<< HEAD
      "execution_count": 12,
      "metadata": {
        "colab": {
          "base_uri": "https://localhost:8080/",
          "height": 599
        },
        "id": "nB2-Ax1INpky",
        "outputId": "f63b3197-1868-4ade-cf16-3677c59ed783"
      },
      "outputs": [
        {
          "name": "stderr",
          "output_type": "stream",
          "text": [
            "c:\\Users\\DELL\\OneDrive\\Desktop\\lr_salary\\myenv\\lib\\site-packages\\sklearn\\utils\\validation.py:2749: UserWarning: X does not have valid feature names, but LinearRegression was fitted with feature names\n",
            "  warnings.warn(\n"
          ]
        },
        {
          "name": "stdout",
          "output_type": "stream",
          "text": [
            "Slope: 9423.82\n",
            "Intercept: 24380.20\n",
            "Predicted Salary at 8 years: 99770.72\n",
            "R² Score (Test): 90.24%\n",
            "Mean Squared Error (MSE): 49830096.86\n",
            "Mean Absolute Error (MAE): 6286.45\n",
            "Root Mean Squared Error (RMSE): 7059.04\n"
          ]
        },
        {
          "data": {
            "image/png": "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",
            "text/plain": [
              "<Figure size 640x480 with 1 Axes>"
            ]
          },
          "metadata": {},
          "output_type": "display_data"
        }
      ],
=======
>>>>>>> fe574affc3ded318263bbbc35e20b4a1cbf12fd1
      "source": [
        "import pandas as pd\n",
        "import numpy as np\n",
        "import matplotlib.pyplot as plt\n",
        "from sklearn.model_selection import train_test_split\n",
        "from sklearn.linear_model import LinearRegression\n",
        "from sklearn.metrics import r2_score, mean_squared_error, mean_absolute_error\n",
        "X = df[['YearsExperience']]\n",
        "y = df['Salary']\n",
        "X_train, X_test, y_train, y_test = train_test_split(X, y, test_size=0.2, random_state=42)\n",
        "\n",
        "model = LinearRegression()\n",
        "model.fit(X_train, y_train)\n",
        "y_train_pred = model.predict(X_train)\n",
        "y_test_pred = model.predict(X_test)\n",
        "\n",
        "slope = model.coef_[0]\n",
        "intercept = model.intercept_\n",
        "pred_experience = 8\n",
        "predicted_salary = model.predict([[pred_experience]])[0]\n",
        "r2_test = r2_score(y_test, y_test_pred) * 100\n",
        "mse = mean_squared_error(y_test, y_test_pred)\n",
        "mae = mean_absolute_error(y_test, y_test_pred)\n",
        "rmse = np.sqrt(mse)\n",
        "print(f\"Slope: {slope:.2f}\")\n",
        "print(f\"Intercept: {intercept:.2f}\")\n",
        "print(f\"Predicted Salary at {pred_experience} years: {predicted_salary:.2f}\")\n",
        "print(f\"R² Score (Test): {r2_test:.2f}%\")\n",
        "print(f\"Mean Squared Error (MSE): {mse:.2f}\")\n",
        "print(f\"Mean Absolute Error (MAE): {mae:.2f}\")\n",
        "print(f\"Root Mean Squared Error (RMSE): {rmse:.2f}\")\n",
        "\n",
        "plt.scatter(X_train, y_train, color='blue', label='Train Data')\n",
        "plt.scatter(X_test, y_test, color='green', label='Test Data')\n",
        "plt.plot(X, model.predict(X), color='red', linewidth=2, label='Regression Line')\n",
        "plt.title('Experience vs Salary')\n",
        "plt.xlabel('Experience (Years)')\n",
        "plt.ylabel('Salary (k)')\n",
        "plt.legend()\n",
        "plt.show()\n"
<<<<<<< HEAD
      ]
    }
  ],
  "metadata": {
    "colab": {
      "provenance": []
    },
    "kernelspec": {
      "display_name": "myenv",
      "language": "python",
      "name": "python3"
    },
    "language_info": {
      "codemirror_mode": {
        "name": "ipython",
        "version": 3
      },
      "file_extension": ".py",
      "mimetype": "text/x-python",
      "name": "python",
      "nbconvert_exporter": "python",
      "pygments_lexer": "ipython3",
      "version": "3.10.18"
    }
  },
  "nbformat": 4,
  "nbformat_minor": 0
}
=======
      ],
      "metadata": {
        "colab": {
          "base_uri": "https://localhost:8080/",
          "height": 599
        },
        "id": "nB2-Ax1INpky",
        "outputId": "f63b3197-1868-4ade-cf16-3677c59ed783"
      },
      "execution_count": 256,
      "outputs": [
        {
          "output_type": "stream",
          "name": "stdout",
          "text": [
            "Slope: 9423.82\n",
            "Intercept: 24380.20\n",
            "Predicted Salary at 8 years: 99770.72\n",
            "R² Score (Test): 90.24%\n",
            "Mean Squared Error (MSE): 49830096.86\n",
            "Mean Absolute Error (MAE): 6286.45\n",
            "Root Mean Squared Error (RMSE): 7059.04\n"
          ]
        },
        {
          "output_type": "display_data",
          "data": {
            "text/plain": [
              "<Figure size 640x480 with 1 Axes>"
            ],
            "image/png": "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\n"
          },
          "metadata": {}
        }
      ]
    }
  ]
}
>>>>>>> fe574affc3ded318263bbbc35e20b4a1cbf12fd1
